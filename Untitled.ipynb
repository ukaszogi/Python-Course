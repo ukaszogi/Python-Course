{
 "cells": [
  {
   "cell_type": "markdown",
   "id": "8622f19c",
   "metadata": {},
   "source": [
    "# Python kurs"
   ]
  },
  {
   "cell_type": "markdown",
   "id": "a1617107",
   "metadata": {},
   "source": [
    "## Spis treści:\n",
    "- 1 Sytax\n",
    "    - 1.1 Instrukcje sterujące\n",
    "        - 1.1.1 if, elif, else\n",
    "        - 1.1.2 pętla for\n",
    "        - 1.1.3 pętla while\n",
    "    - 1.2 Operacje na tablicach\n",
    "        - 1.2.1 range\n",
    "        - 1.2.2 len\n",
    "        - 1.2.3 jeszcze raz for\n",
    "        - 1.2.4 enumarate\n",
    "        - 1.2.5 append, pop\n",
    "    - 1.3 Operacje na stringach\n",
    "    - 1.4 Zmienne\n",
    "        - 1.4.1 Rzutowanie\n",
    "        - 1.4.2 input\n",
    "        - 1.4.3 Działanie arytmetyczne\n",
    "    - 1.5 Biblioteki\n",
    "        - 1.5.1 math\n",
    "        - 1.5.2 from ... import\n",
    "        - 1.5.3 ... as\n",
    "    - 1.6 Pliki\n",
    "        - 1.6.1 open, close\n",
    "        - 1.6.2 for ...\n",
    "        - 1.6.3 with"
   ]
  },
  {
   "cell_type": "markdown",
   "id": "c91a668a",
   "metadata": {},
   "source": [
    "## 1 Syntax"
   ]
  },
  {
   "cell_type": "markdown",
   "id": "0dfb1c18",
   "metadata": {},
   "source": [
    "### 1.1 Instrukcje sterujące"
   ]
  },
  {
   "cell_type": "markdown",
   "id": "1d290b7a",
   "metadata": {},
   "source": [
    "#### 1.1.1 if, elif, else"
   ]
  },
  {
   "cell_type": "code",
   "execution_count": 1,
   "id": "1ed770bf",
   "metadata": {},
   "outputs": [],
   "source": [
    "liczba = 15"
   ]
  },
  {
   "cell_type": "code",
   "execution_count": 2,
   "id": "efa56342",
   "metadata": {
    "scrolled": false
   },
   "outputs": [
    {
     "name": "stdout",
     "output_type": "stream",
     "text": [
      "między 10 i 20\n"
     ]
    }
   ],
   "source": [
    "if liczba < 10:\n",
    "    print(\"mniejsza niż 10\")\n",
    "elif liczba >= 10 and liczba < 20:\n",
    "    print(\"między 10 i 20\")\n",
    "else:\n",
    "    print(\"większe niż dziesięć\")"
   ]
  },
  {
   "cell_type": "markdown",
   "id": "14b743b6",
   "metadata": {},
   "source": [
    "#### 1.1.2 pętla for"
   ]
  },
  {
   "cell_type": "code",
   "execution_count": 3,
   "id": "63439352",
   "metadata": {},
   "outputs": [
    {
     "name": "stdout",
     "output_type": "stream",
     "text": [
      "2\n",
      "3\n",
      "4\n",
      "5\n",
      "6\n",
      "7\n",
      "8\n",
      "9\n"
     ]
    }
   ],
   "source": [
    "for i in range(2, 10):\n",
    "    print(i)"
   ]
  },
  {
   "cell_type": "markdown",
   "id": "caec637d",
   "metadata": {},
   "source": [
    "#### 1.1.3 pętla while"
   ]
  },
  {
   "cell_type": "markdown",
   "id": "84f2a8c5",
   "metadata": {},
   "source": [
    "### 1.2 Operacje na tablicach"
   ]
  },
  {
   "cell_type": "code",
   "execution_count": 4,
   "id": "a432730e",
   "metadata": {},
   "outputs": [],
   "source": [
    "tab = [1, 2, 'napis', True, 3.14159] # lista - domyślna znana tablica\n",
    "uczniowie = {\n",
    "    \"Adam\": \"Tworzowski\",\n",
    "    2: 4\n",
    "} # słownik - podobny do obiektu w js. pary klucz-wartość\n",
    "krotka = (1, 2, \"nie zmodywfikujesz\") # działa jak lista, ale nie zmodyfikujesz"
   ]
  },
  {
   "cell_type": "markdown",
   "id": "ffeb1483",
   "metadata": {},
   "source": [
    "#### 1.2.1 range"
   ]
  },
  {
   "cell_type": "code",
   "execution_count": 5,
   "id": "d350681c",
   "metadata": {},
   "outputs": [],
   "source": [
    "start = 0 # domyślna wartość\n",
    "stop = 10 # argument obowiązkowy\n",
    "skok = 1 # domyślna wartość"
   ]
  },
  {
   "cell_type": "code",
   "execution_count": 6,
   "id": "bf844fff",
   "metadata": {},
   "outputs": [
    {
     "name": "stdout",
     "output_type": "stream",
     "text": [
      "range(0, 10)\n",
      "range(0, 10)\n",
      "range(0, 10)\n",
      "[0, 1, 2, 3, 4, 5, 6, 7, 8, 9]\n"
     ]
    }
   ],
   "source": [
    "print(range(start, stop, skok))\n",
    "print(range(start, stop))\n",
    "print(range(stop))\n",
    "print(list(range(stop))) # aby wypisać range musze zrobić konwersję na listę"
   ]
  },
  {
   "cell_type": "markdown",
   "id": "78e1de7f",
   "metadata": {},
   "source": [
    "#### 1.2.2 len"
   ]
  },
  {
   "cell_type": "code",
   "execution_count": 7,
   "id": "af8cae04",
   "metadata": {
    "scrolled": true
   },
   "outputs": [
    {
     "data": {
      "text/plain": [
       "5"
      ]
     },
     "execution_count": 7,
     "metadata": {},
     "output_type": "execute_result"
    }
   ],
   "source": [
    "len(tab)"
   ]
  },
  {
   "cell_type": "markdown",
   "id": "ff15de54",
   "metadata": {},
   "source": [
    "#### 1.2.3 jeszcze raz for"
   ]
  },
  {
   "cell_type": "code",
   "execution_count": 8,
   "id": "efd551d8",
   "metadata": {},
   "outputs": [
    {
     "name": "stdout",
     "output_type": "stream",
     "text": [
      "Tworzowski\n",
      "4\n"
     ]
    }
   ],
   "source": [
    "for key in uczniowie:\n",
    "    print(uczniowie[key])"
   ]
  },
  {
   "cell_type": "code",
   "execution_count": 9,
   "id": "46eef574",
   "metadata": {},
   "outputs": [
    {
     "name": "stdout",
     "output_type": "stream",
     "text": [
      "Adam -> Tworzowski\n",
      "2 -> 4\n"
     ]
    }
   ],
   "source": [
    "for (key, value) in uczniowie.items():\n",
    "    print(f\"{key} -> {value}\")"
   ]
  },
  {
   "cell_type": "markdown",
   "id": "2bf7811c",
   "metadata": {},
   "source": [
    "#### 1.2.4 enumarate"
   ]
  },
  {
   "cell_type": "code",
   "execution_count": 10,
   "id": "aa6301d6",
   "metadata": {},
   "outputs": [],
   "source": [
    "start = 0 # domyślna wartość"
   ]
  },
  {
   "cell_type": "code",
   "execution_count": 11,
   "id": "8ae3e72e",
   "metadata": {},
   "outputs": [
    {
     "name": "stdout",
     "output_type": "stream",
     "text": [
      "0 -> 1\n",
      "1 -> 2\n",
      "2 -> napis\n",
      "3 -> True\n",
      "4 -> 3.14159\n"
     ]
    }
   ],
   "source": [
    "for (index, value) in enumerate(tab, start):\n",
    "    print(f\"{index} -> {value}\")"
   ]
  },
  {
   "cell_type": "markdown",
   "id": "bab8b11e",
   "metadata": {},
   "source": [
    "#### 1.2.5 append, pop"
   ]
  },
  {
   "cell_type": "code",
   "execution_count": 12,
   "id": "75ffa77d",
   "metadata": {},
   "outputs": [
    {
     "data": {
      "text/plain": [
       "[4, 16, 36]"
      ]
     },
     "execution_count": 12,
     "metadata": {},
     "output_type": "execute_result"
    }
   ],
   "source": [
    "example = [2, 4, 6]\n",
    "tab = []\n",
    "for i in example:\n",
    "    tab.append(i**2)\n",
    "\n",
    "tab"
   ]
  },
  {
   "cell_type": "code",
   "execution_count": 13,
   "id": "1281bb53",
   "metadata": {},
   "outputs": [],
   "source": [
    "index = 1 # domyślnie pop usuwa ostatni element"
   ]
  },
  {
   "cell_type": "code",
   "execution_count": 14,
   "id": "85baf54d",
   "metadata": {},
   "outputs": [
    {
     "name": "stdout",
     "output_type": "stream",
     "text": [
      "[1, 2]\n",
      "6 [2, 4]\n"
     ]
    }
   ],
   "source": [
    "tab = [1, \"to zostanie usuniete\", 2]\n",
    "tab.pop(index)\n",
    "usunięty = example.pop() # example to [2, 4, 6]\n",
    "print(tab)\n",
    "print(usunięty, example)"
   ]
  },
  {
   "cell_type": "markdown",
   "id": "8ef88c35",
   "metadata": {},
   "source": [
    "### 1.3 Zmienne"
   ]
  },
  {
   "cell_type": "markdown",
   "id": "33963361",
   "metadata": {},
   "source": [
    "#### 1.3.1 Rzutowanie"
   ]
  },
  {
   "cell_type": "code",
   "execution_count": 15,
   "id": "900ab25c",
   "metadata": {},
   "outputs": [],
   "source": [
    "strPi = \"3.14159\""
   ]
  },
  {
   "cell_type": "code",
   "execution_count": 16,
   "id": "6859db81",
   "metadata": {},
   "outputs": [
    {
     "data": {
      "text/plain": [
       "3.14159"
      ]
     },
     "execution_count": 16,
     "metadata": {},
     "output_type": "execute_result"
    }
   ],
   "source": [
    "floatPi = float(strPi)\n",
    "floatPi"
   ]
  },
  {
   "cell_type": "code",
   "execution_count": 17,
   "id": "e8f36f2d",
   "metadata": {},
   "outputs": [
    {
     "ename": "ValueError",
     "evalue": "invalid literal for int() with base 10: '3.14159'",
     "output_type": "error",
     "traceback": [
      "\u001b[1;31m---------------------------------------------------------------------------\u001b[0m",
      "\u001b[1;31mValueError\u001b[0m                                Traceback (most recent call last)",
      "\u001b[1;32m~\\AppData\\Local\\Temp/ipykernel_5016/890440493.py\u001b[0m in \u001b[0;36m<module>\u001b[1;34m\u001b[0m\n\u001b[1;32m----> 1\u001b[1;33m \u001b[0mint\u001b[0m\u001b[1;33m(\u001b[0m\u001b[0mstrPi\u001b[0m\u001b[1;33m)\u001b[0m\u001b[1;33m\u001b[0m\u001b[1;33m\u001b[0m\u001b[0m\n\u001b[0m",
      "\u001b[1;31mValueError\u001b[0m: invalid literal for int() with base 10: '3.14159'"
     ]
    }
   ],
   "source": [
    "int(strPi)"
   ]
  },
  {
   "cell_type": "code",
   "execution_count": 18,
   "id": "87de4e8b",
   "metadata": {},
   "outputs": [
    {
     "data": {
      "text/plain": [
       "3"
      ]
     },
     "execution_count": 18,
     "metadata": {},
     "output_type": "execute_result"
    }
   ],
   "source": [
    "intPi = int(floatPi)\n",
    "intPi"
   ]
  },
  {
   "cell_type": "code",
   "execution_count": 19,
   "id": "f99cd377",
   "metadata": {},
   "outputs": [
    {
     "name": "stdout",
     "output_type": "stream",
     "text": [
      "<class 'str'> <class 'float'> <class 'int'>\n"
     ]
    }
   ],
   "source": [
    "print(type(strPi), type(floatPi), type(intPi))"
   ]
  },
  {
   "cell_type": "markdown",
   "id": "f3c5e51e",
   "metadata": {},
   "source": [
    "#### 1.3.2 input"
   ]
  },
  {
   "cell_type": "code",
   "execution_count": 20,
   "id": "9ea69a34",
   "metadata": {},
   "outputs": [
    {
     "name": "stdout",
     "output_type": "stream",
     "text": [
      "Podaj liczbe: 3\n"
     ]
    },
    {
     "data": {
      "text/plain": [
       "('3', str)"
      ]
     },
     "execution_count": 20,
     "metadata": {},
     "output_type": "execute_result"
    }
   ],
   "source": [
    "x = input(\"Podaj liczbe: \")\n",
    "(x, type(x))"
   ]
  },
  {
   "cell_type": "markdown",
   "id": "564c5436",
   "metadata": {},
   "source": [
    "input wszystko interbpretuje jako napis. Aby mieć liczbę:"
   ]
  },
  {
   "cell_type": "code",
   "execution_count": 21,
   "id": "129e1359",
   "metadata": {},
   "outputs": [
    {
     "name": "stdout",
     "output_type": "stream",
     "text": [
      "Podaj liczbe: 3\n"
     ]
    },
    {
     "data": {
      "text/plain": [
       "(3, int)"
      ]
     },
     "execution_count": 21,
     "metadata": {},
     "output_type": "execute_result"
    }
   ],
   "source": [
    "x = int(input(\"Podaj liczbe: \"))\n",
    "(x, type(x))"
   ]
  },
  {
   "cell_type": "markdown",
   "id": "364ebf37",
   "metadata": {},
   "source": [
    "#### 1.3.3 Działania arytmetyczne"
   ]
  },
  {
   "cell_type": "code",
   "execution_count": 22,
   "id": "ad4e9e85",
   "metadata": {},
   "outputs": [
    {
     "name": "stdout",
     "output_type": "stream",
     "text": [
      "1.5\n",
      "1\n"
     ]
    }
   ],
   "source": [
    "print(3/2)\n",
    "print(3//2) # dzielenie całkowite"
   ]
  }
 ],
 "metadata": {
  "kernelspec": {
   "display_name": "Python 3 (ipykernel)",
   "language": "python",
   "name": "python3"
  },
  "language_info": {
   "codemirror_mode": {
    "name": "ipython",
    "version": 3
   },
   "file_extension": ".py",
   "mimetype": "text/x-python",
   "name": "python",
   "nbconvert_exporter": "python",
   "pygments_lexer": "ipython3",
   "version": "3.8.12"
  }
 },
 "nbformat": 4,
 "nbformat_minor": 5
}
