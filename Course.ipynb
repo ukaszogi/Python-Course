{
 "cells": [
  {
   "cell_type": "markdown",
   "id": "1d64e82f",
   "metadata": {},
   "source": [
    "# Python Kurs"
   ]
  },
  {
   "cell_type": "markdown",
   "id": "21730c39",
   "metadata": {},
   "source": [
    "## Linki"
   ]
  },
  {
   "cell_type": "markdown",
   "id": "5648ab2f",
   "metadata": {},
   "source": [
    "- 1 [Syntax](1/Syntax.ipynb)\n",
    "- 2 [Zaawansowane metody programownia w języku Python](2/zmp.ipynb)\n",
    "- 3 [Zadania maturalne](3/matura.ipynb)"
   ]
  }
 ],
 "metadata": {
  "kernelspec": {
   "display_name": "Python 3 (ipykernel)",
   "language": "python",
   "name": "python3"
  },
  "language_info": {
   "codemirror_mode": {
    "name": "ipython",
    "version": 3
   },
   "file_extension": ".py",
   "mimetype": "text/x-python",
   "name": "python",
   "nbconvert_exporter": "python",
   "pygments_lexer": "ipython3",
   "version": "3.9.7"
  }
 },
 "nbformat": 4,
 "nbformat_minor": 5
}
