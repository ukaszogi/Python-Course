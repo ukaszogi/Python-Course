{
 "cells": [
  {
   "cell_type": "markdown",
   "id": "8622f19c",
   "metadata": {},
   "source": [
    "# Python kurs"
   ]
  },
  {
   "cell_type": "markdown",
   "id": "a1617107",
   "metadata": {},
   "source": [
    "## Spis treści:\n",
    "- 1 Sytax\n",
    "    - 1.1 [Instrukcje sterujące](#1.1)\n",
    "        - 1.1.1 if, elif, else\n",
    "        - 1.1.2 pętla for\n",
    "        - 1.1.3 pętla while\n",
    "    - 1.2 [Operacje na tablicach](#1.2)\n",
    "        - 1.2.1 range\n",
    "        - 1.2.2 len\n",
    "        - 1.2.3 jeszcze raz for\n",
    "        - 1.2.4 enumarate\n",
    "        - 1.2.5 append, pop\n",
    "    - 1.3 [Operacje na stringach](#1.3)\n",
    "    - 1.4 [Zmienne](#1.4)\n",
    "        - 1.4.1 Rzutowanie\n",
    "        - 1.4.2 input\n",
    "        - 1.4.3 Działanie arytmetyczne\n",
    "    - 1.5 [Biblioteki](#1.5)\n",
    "        - 1.5.1 math\n",
    "        - 1.5.2 from ... import\n",
    "        - 1.5.3 ... as\n",
    "    - 1.6 [Pliki](#1.6)\n",
    "        - 1.6.1 open, close\n",
    "        - 1.6.2 for ...\n",
    "        - 1.6.3 with\n",
    "- 2 Zaawansowane metody programistyczne"
   ]
  },
  {
   "cell_type": "markdown",
   "id": "c91a668a",
   "metadata": {},
   "source": [
    "## 1 Syntax"
   ]
  },
  {
   "cell_type": "markdown",
   "id": "0dfb1c18",
   "metadata": {},
   "source": [
    "<a class=\"anchor\" id=\"1.1\" ></a>\n",
    "### 1.1 Instrukcje sterujące"
   ]
  },
  {
   "cell_type": "markdown",
   "id": "1d290b7a",
   "metadata": {},
   "source": [
    "#### 1.1.1 if, elif, else"
   ]
  },
  {
   "cell_type": "code",
   "execution_count": 1,
   "id": "1ed770bf",
   "metadata": {},
   "outputs": [],
   "source": [
    "liczba = 15"
   ]
  },
  {
   "cell_type": "code",
   "execution_count": 2,
   "id": "efa56342",
   "metadata": {
    "scrolled": false
   },
   "outputs": [
    {
     "name": "stdout",
     "output_type": "stream",
     "text": [
      "między 10 i 20\n"
     ]
    }
   ],
   "source": [
    "if liczba < 10:\n",
    "    print(\"mniejsza niż 10\")\n",
    "elif liczba >= 10 and liczba < 20:\n",
    "    print(\"między 10 i 20\")\n",
    "else:\n",
    "    print(\"większe niż dziesięć\")"
   ]
  },
  {
   "cell_type": "markdown",
   "id": "14b743b6",
   "metadata": {},
   "source": [
    "#### 1.1.2 pętla for"
   ]
  },
  {
   "cell_type": "code",
   "execution_count": 3,
   "id": "63439352",
   "metadata": {},
   "outputs": [
    {
     "name": "stdout",
     "output_type": "stream",
     "text": [
      "2\n",
      "3\n",
      "4\n",
      "5\n",
      "6\n",
      "7\n",
      "8\n",
      "9\n"
     ]
    }
   ],
   "source": [
    "for i in range(2, 10):\n",
    "    print(i)"
   ]
  },
  {
   "cell_type": "markdown",
   "id": "caec637d",
   "metadata": {},
   "source": [
    "#### 1.1.3 pętla while"
   ]
  },
  {
   "cell_type": "markdown",
   "id": "84f2a8c5",
   "metadata": {},
   "source": [
    "<a class=\"anchor\" id=\"1.2\"></a>\n",
    "### 1.2 Operacje na tablicach"
   ]
  },
  {
   "cell_type": "code",
   "execution_count": 4,
   "id": "a432730e",
   "metadata": {},
   "outputs": [],
   "source": [
    "tab = [1, 2, 'napis', True, 3.14159] # lista - domyślna znana tablica\n",
    "uczniowie = {\n",
    "    \"Adam\": \"Tworzowski\",\n",
    "    2: 4\n",
    "} # słownik - podobny do obiektu w js. pary klucz-wartość\n",
    "krotka = (1, 2, 3, \"nie zmodywfikujesz jej Ty!\") # działa jak lista, ale nie zmodyfikujesz"
   ]
  },
  {
   "cell_type": "markdown",
   "id": "ffeb1483",
   "metadata": {},
   "source": [
    "#### 1.2.1 range"
   ]
  },
  {
   "cell_type": "code",
   "execution_count": 5,
   "id": "d350681c",
   "metadata": {},
   "outputs": [],
   "source": [
    "start = 0 # domyślna wartość\n",
    "stop = 10 # argument obowiązkowy\n",
    "skok = 1 # domyślna wartość"
   ]
  },
  {
   "cell_type": "code",
   "execution_count": 6,
   "id": "bf844fff",
   "metadata": {},
   "outputs": [
    {
     "name": "stdout",
     "output_type": "stream",
     "text": [
      "range(0, 10)\n",
      "range(0, 10)\n",
      "range(0, 10)\n",
      "[0, 1, 2, 3, 4, 5, 6, 7, 8, 9]\n"
     ]
    }
   ],
   "source": [
    "print(range(start, stop, skok))\n",
    "print(range(start, stop))\n",
    "print(range(stop))\n",
    "print(list(range(stop))) # aby wypisać range muszę zrobić konwersję na listę"
   ]
  },
  {
   "cell_type": "markdown",
   "id": "78e1de7f",
   "metadata": {},
   "source": [
    "#### 1.2.2 len"
   ]
  },
  {
   "cell_type": "code",
   "execution_count": 7,
   "id": "af8cae04",
   "metadata": {
    "scrolled": true
   },
   "outputs": [
    {
     "data": {
      "text/plain": [
       "5"
      ]
     },
     "execution_count": 7,
     "metadata": {},
     "output_type": "execute_result"
    }
   ],
   "source": [
    "len(tab)"
   ]
  },
  {
   "cell_type": "markdown",
   "id": "ff15de54",
   "metadata": {},
   "source": [
    "#### 1.2.3 jeszcze raz for"
   ]
  },
  {
   "cell_type": "code",
   "execution_count": 8,
   "id": "efd551d8",
   "metadata": {},
   "outputs": [
    {
     "name": "stdout",
     "output_type": "stream",
     "text": [
      "Adam Tworzowski\n",
      "2 4\n"
     ]
    }
   ],
   "source": [
    "for key in uczniowie:\n",
    "    print(key, uczniowie[key])"
   ]
  },
  {
   "cell_type": "code",
   "execution_count": 9,
   "id": "46eef574",
   "metadata": {},
   "outputs": [
    {
     "name": "stdout",
     "output_type": "stream",
     "text": [
      "Adam -> Tworzowski\n",
      "2 -> 4\n"
     ]
    }
   ],
   "source": [
    "for (key, value) in uczniowie.items():\n",
    "    print(f\"{key} -> {value}\")"
   ]
  },
  {
   "cell_type": "code",
   "execution_count": 10,
   "id": "6d31a011",
   "metadata": {},
   "outputs": [
    {
     "name": "stdout",
     "output_type": "stream",
     "text": [
      "0 1\n",
      "1 2\n",
      "2 napis\n",
      "3 True\n",
      "4 3.14159\n"
     ]
    }
   ],
   "source": [
    "for i in range(len(tab)): #range(len()) kombo jest turbo często używane\n",
    "    print(i, tab[i])"
   ]
  },
  {
   "cell_type": "markdown",
   "id": "2bf7811c",
   "metadata": {},
   "source": [
    "#### 1.2.4 enumarate"
   ]
  },
  {
   "cell_type": "code",
   "execution_count": 11,
   "id": "aa6301d6",
   "metadata": {},
   "outputs": [],
   "source": [
    "start = 0 # domyślna wartość"
   ]
  },
  {
   "cell_type": "code",
   "execution_count": 12,
   "id": "8ae3e72e",
   "metadata": {},
   "outputs": [
    {
     "name": "stdout",
     "output_type": "stream",
     "text": [
      "0 -> 1\n",
      "1 -> 2\n",
      "2 -> napis\n",
      "3 -> True\n",
      "4 -> 3.14159\n"
     ]
    }
   ],
   "source": [
    "for (index, value) in enumerate(tab, start):\n",
    "    print(f\"{index} -> {value}\")"
   ]
  },
  {
   "cell_type": "markdown",
   "id": "bab8b11e",
   "metadata": {},
   "source": [
    "#### 1.2.5 append, pop"
   ]
  },
  {
   "cell_type": "code",
   "execution_count": 13,
   "id": "75ffa77d",
   "metadata": {},
   "outputs": [
    {
     "data": {
      "text/plain": [
       "[4, 16, 36]"
      ]
     },
     "execution_count": 13,
     "metadata": {},
     "output_type": "execute_result"
    }
   ],
   "source": [
    "example = [2, 4, 6]\n",
    "tab = []\n",
    "for i in example:\n",
    "    tab.append(i**2)\n",
    "\n",
    "tab"
   ]
  },
  {
   "cell_type": "code",
   "execution_count": 14,
   "id": "1281bb53",
   "metadata": {},
   "outputs": [],
   "source": [
    "index = 1 # domyślnie pop usuwa ostatni element"
   ]
  },
  {
   "cell_type": "code",
   "execution_count": 15,
   "id": "85baf54d",
   "metadata": {},
   "outputs": [
    {
     "name": "stdout",
     "output_type": "stream",
     "text": [
      "tab [1, 2]\n",
      "6 [2, 4]\n"
     ]
    }
   ],
   "source": [
    "tab = [1, \"to zostanie usuniete\", 2]\n",
    "tab.pop(index)\n",
    "usunięty = example.pop() # example to [2, 4, 6]\n",
    "print(\"tab\", tab)\n",
    "print(usunięty, example)"
   ]
  },
  {
   "cell_type": "markdown",
   "id": "701b9a6b",
   "metadata": {},
   "source": [
    "<a class=\"anchor\" id=\"1.3\"></a>\n",
    "### 1.3 Operacje na stringach"
   ]
  },
  {
   "cell_type": "markdown",
   "id": "8ef88c35",
   "metadata": {},
   "source": [
    "<a class=\"anchor\" id=\"1.4\"></a>\n",
    "### 1.4 Zmienne"
   ]
  },
  {
   "cell_type": "markdown",
   "id": "33963361",
   "metadata": {},
   "source": [
    "#### 1.4.1 Rzutowanie"
   ]
  },
  {
   "cell_type": "code",
   "execution_count": 16,
   "id": "900ab25c",
   "metadata": {},
   "outputs": [],
   "source": [
    "strPi = \"3.14159\""
   ]
  },
  {
   "cell_type": "code",
   "execution_count": 17,
   "id": "6859db81",
   "metadata": {},
   "outputs": [
    {
     "data": {
      "text/plain": [
       "3.14159"
      ]
     },
     "execution_count": 17,
     "metadata": {},
     "output_type": "execute_result"
    }
   ],
   "source": [
    "floatPi = float(strPi)\n",
    "floatPi"
   ]
  },
  {
   "cell_type": "code",
   "execution_count": 18,
   "id": "e8f36f2d",
   "metadata": {},
   "outputs": [
    {
     "name": "stdout",
     "output_type": "stream",
     "text": [
      "invalid literal for int() with base 10: '3.14159'\n"
     ]
    }
   ],
   "source": [
    "try:\n",
    "    int(strPi)\n",
    "except ValueError as err:\n",
    "    print(err)"
   ]
  },
  {
   "cell_type": "code",
   "execution_count": 19,
   "id": "87de4e8b",
   "metadata": {},
   "outputs": [
    {
     "data": {
      "text/plain": [
       "3"
      ]
     },
     "execution_count": 19,
     "metadata": {},
     "output_type": "execute_result"
    }
   ],
   "source": [
    "intPi = int(floatPi)\n",
    "intPi"
   ]
  },
  {
   "cell_type": "code",
   "execution_count": 20,
   "id": "f99cd377",
   "metadata": {},
   "outputs": [
    {
     "name": "stdout",
     "output_type": "stream",
     "text": [
      "<class 'str'> <class 'float'> <class 'int'>\n"
     ]
    }
   ],
   "source": [
    "print(type(strPi), type(floatPi), type(intPi))"
   ]
  },
  {
   "cell_type": "markdown",
   "id": "f3c5e51e",
   "metadata": {},
   "source": [
    "#### 1.4.2 input"
   ]
  },
  {
   "cell_type": "code",
   "execution_count": 21,
   "id": "9ea69a34",
   "metadata": {},
   "outputs": [
    {
     "data": {
      "text/plain": [
       "('3', str)"
      ]
     },
     "execution_count": 21,
     "metadata": {},
     "output_type": "execute_result"
    }
   ],
   "source": [
    "x = input(\"Podaj liczbe: \")\n",
    "(x, type(x))"
   ]
  },
  {
   "cell_type": "markdown",
   "id": "564c5436",
   "metadata": {},
   "source": [
    "input wszystko interpretuje jako napis. Aby mieć liczbę:"
   ]
  },
  {
   "cell_type": "code",
   "execution_count": 22,
   "id": "129e1359",
   "metadata": {},
   "outputs": [
    {
     "data": {
      "text/plain": [
       "(3, int)"
      ]
     },
     "execution_count": 22,
     "metadata": {},
     "output_type": "execute_result"
    }
   ],
   "source": [
    "x = int(input(\"Podaj liczbe: \"))\n",
    "(x, type(x))"
   ]
  },
  {
   "cell_type": "markdown",
   "id": "364ebf37",
   "metadata": {},
   "source": [
    "#### 1.4.3 Działania arytmetyczne"
   ]
  },
  {
   "cell_type": "code",
   "execution_count": 23,
   "id": "ad4e9e85",
   "metadata": {},
   "outputs": [
    {
     "name": "stdout",
     "output_type": "stream",
     "text": [
      "1.5\n",
      "1\n",
      "1\n",
      "9\n",
      "1024\n",
      "45\n"
     ]
    }
   ],
   "source": [
    "print(3/2)\n",
    "print(3//2) # dzielenie całkowite\n",
    "print(3%2) # reszta z dzielenia\n",
    "print(3**2) # potęga\n",
    "print(1<<10) # przesunięcie bitowe. de facto a<<b = a * 2**b. bardzo szybkie\n",
    "print(360>>3) # analogicznie a>>b = a / 2**b"
   ]
  },
  {
   "cell_type": "markdown",
   "id": "342ca409",
   "metadata": {},
   "source": [
    "<a class=\"anchor\" id=\"1.5\"></a>\n",
    "### 1.5 Biblioteki"
   ]
  },
  {
   "cell_type": "markdown",
   "id": "1818c52b",
   "metadata": {},
   "source": [
    "#### 1.5.1 math"
   ]
  },
  {
   "cell_type": "code",
   "execution_count": 24,
   "id": "7de510be",
   "metadata": {},
   "outputs": [
    {
     "name": "stdout",
     "output_type": "stream",
     "text": [
      "<module 'math' (built-in)>\n"
     ]
    }
   ],
   "source": [
    "import math\n",
    "print(math)"
   ]
  },
  {
   "cell_type": "code",
   "execution_count": 25,
   "id": "db2ca454",
   "metadata": {},
   "outputs": [
    {
     "name": "stdout",
     "output_type": "stream",
     "text": [
      "8.306623862918075\n"
     ]
    }
   ],
   "source": [
    "print(math.sqrt(69))"
   ]
  },
  {
   "cell_type": "code",
   "execution_count": 26,
   "id": "a21ff8ad",
   "metadata": {},
   "outputs": [
    {
     "data": {
      "text/plain": [
       "(2.718281828459045, 3.141592653589793)"
      ]
     },
     "execution_count": 26,
     "metadata": {},
     "output_type": "execute_result"
    }
   ],
   "source": [
    "(math.e, math.pi)"
   ]
  },
  {
   "cell_type": "code",
   "execution_count": 27,
   "id": "c4f53e36",
   "metadata": {},
   "outputs": [
    {
     "name": "stdout",
     "output_type": "stream",
     "text": [
      "π = 3\n",
      "e = 3\n"
     ]
    }
   ],
   "source": [
    "print(f\"\\u03C0 = {math.floor(math.pi)}\\ne = {math.ceil(math.e)}\")"
   ]
  },
  {
   "cell_type": "markdown",
   "id": "df411c19",
   "metadata": {},
   "source": [
    "#### 1.5.2 from ... import"
   ]
  },
  {
   "cell_type": "code",
   "execution_count": 28,
   "id": "d8fa3431",
   "metadata": {},
   "outputs": [],
   "source": [
    "from math import sin, cos"
   ]
  },
  {
   "cell_type": "code",
   "execution_count": 29,
   "id": "47ae89d4",
   "metadata": {},
   "outputs": [
    {
     "data": {
      "text/plain": [
       "1.2246467991473532e-16"
      ]
     },
     "execution_count": 29,
     "metadata": {},
     "output_type": "execute_result"
    }
   ],
   "source": [
    "sin(math.pi)"
   ]
  },
  {
   "cell_type": "markdown",
   "id": "44459490",
   "metadata": {},
   "source": [
    "#### 1.5.3 ... as"
   ]
  },
  {
   "cell_type": "code",
   "execution_count": 30,
   "id": "bf7351a6",
   "metadata": {},
   "outputs": [],
   "source": [
    "import numpy as np"
   ]
  },
  {
   "cell_type": "code",
   "execution_count": 31,
   "id": "987c1248",
   "metadata": {},
   "outputs": [
    {
     "data": {
      "text/plain": [
       "array([1. , 1.1, 1.2, 1.3, 1.4, 1.5, 1.6, 1.7, 1.8, 1.9, 2. ])"
      ]
     },
     "execution_count": 31,
     "metadata": {},
     "output_type": "execute_result"
    }
   ],
   "source": [
    "np.linspace(start=1, stop=2, num=11) # linspace to funcja biblioteki numpy, która zwraca array ciągu arytmetycznego od-do ileśtam elementów"
   ]
  },
  {
   "cell_type": "markdown",
   "id": "8439a05d",
   "metadata": {},
   "source": [
    "<a class=\"anchor\" id=\"1.6\"></a>\n",
    "### 1.6 Pliki"
   ]
  },
  {
   "cell_type": "markdown",
   "id": "c3e776f0",
   "metadata": {},
   "source": [
    "#### 1.6.1 open, close"
   ]
  },
  {
   "cell_type": "code",
   "execution_count": 32,
   "id": "4a60b09e",
   "metadata": {},
   "outputs": [
    {
     "name": "stdout",
     "output_type": "stream",
     "text": [
      "<_io.TextIOWrapper name='1.txt' mode='r' encoding='cp1250'>\n"
     ]
    }
   ],
   "source": [
    "tryb = 'r' # domyślnie jest r\n",
    "plik = open('1.txt' , tryb)\n",
    "print(plik)\n",
    "plik.close()"
   ]
  },
  {
   "cell_type": "markdown",
   "id": "f102dad4",
   "metadata": {},
   "source": [
    "Tryby otwierania (skopiowałem z neta)\n",
    "- r for reading – The file pointer is placed at the beginning of the file. This is the default mode.\n",
    "- r+ Opens a file for both reading and writing. The file pointer will be at the beginning of the file.\n",
    "- w Opens a file for writing only. Overwrites the file if the file exists. If the file does not exist, creates a new file for writing.\n",
    "- w+ Opens a file for both writing and reading. Overwrites the existing file if the file exists. If the file does not exist, it creates a new file for reading and writing.\n",
    "- rb Opens a file for reading only in binary format. The file pointer is placed at the beginning of the file.\n",
    "- rb+ Opens a file for both reading and writing in binary format.\n",
    "- wb+ Opens a file for both writing and reading in binary format. Overwrites the existing file if the file exists. If the file does not exist, it creates a new file for reading and writing.\n",
    "- a Opens a file for appending. The file pointer is at the end of the file if the file exists. That is, the file is in the append mode. If the file does not exist, it creates a new file for writing.\n",
    "- ab Opens a file for appending in binary format. The file pointer is at the end of the file if the file exists. That is, the file is in the append mode. If the file does not exist, it creates a - new file for writing.\n",
    "- a+ Opens a file for both appending and reading. The file pointer is at the end of the file if the file exists. The file opens in the append mode. If the file does not exist, it creates a new file for reading and writing.\n",
    "- ab+ Opens a file for both appending and reading in binary format. The file pointer is at the end of the file if the file exists. The file opens in the append mode. If the file does not exist, it creates a new file for reading and writing.\n",
    "- x open for exclusive creation, failing if the file already exists (Python 3)"
   ]
  },
  {
   "cell_type": "markdown",
   "id": "08b50dda",
   "metadata": {},
   "source": [
    "De facto wystarczy zapamiętać\n",
    "- r - read - domyślny, służy do czytania, zaczyna czytać od początku (duh)\n",
    "- w - write - służy do zapisu, tworzy plik jak nie ma i NADpisuje jak jest (stara zawartość pliku jest tracona). Zaczyna od początku\n",
    "- a - append - służy do dopisywania, tworzy jak nie ma i dopisuje jak jest. Dopisuje oczywiście do końca"
   ]
  },
  {
   "cell_type": "code",
   "execution_count": 33,
   "id": "c7c1ff2b",
   "metadata": {},
   "outputs": [],
   "source": [
    "from datetime import datetime\n",
    "plik = open('2.txt', 'a', encoding=\"utf8\")\n",
    "teraz = datetime.now().strftime(\"%H:%M:%S %d.%m.%Y\")\n",
    "plik.write(f\"Ktoś dopisał do pliku {teraz}\\n\")\n",
    "plik.close()"
   ]
  },
  {
   "cell_type": "markdown",
   "id": "0f5d7c95",
   "metadata": {},
   "source": [
    "#### 1.6.2 for"
   ]
  },
  {
   "cell_type": "code",
   "execution_count": 34,
   "id": "ded10c10",
   "metadata": {},
   "outputs": [
    {
     "name": "stdout",
     "output_type": "stream",
     "text": [
      "linia 1\n",
      "\n",
      "linia 2\n",
      "\n",
      "3\n",
      "\n",
      "4\n",
      "\n",
      "5\n",
      "\n",
      "\n",
      "\n",
      "tam byĹ‚a pusta linia tho\n",
      "\n",
      "ĹĽĂłĹ‚Ä‡\n",
      "\n"
     ]
    }
   ],
   "source": [
    "plik = open('1.txt')\n",
    "for linia in plik:\n",
    "    print(linia)\n",
    "plik.close()"
   ]
  },
  {
   "cell_type": "code",
   "execution_count": 35,
   "id": "ec25996e",
   "metadata": {},
   "outputs": [
    {
     "name": "stdout",
     "output_type": "stream",
     "text": [
      "<_io.TextIOWrapper name='1.txt' mode='r' encoding='utf8'>\n",
      "linia 1\n",
      "linia 2\n",
      "3\n",
      "4\n",
      "5\n",
      "\n",
      "tam była pusta linia tho\n",
      "żółć\n"
     ]
    }
   ],
   "source": [
    "plik = open('1.txt', encoding='utf8')\n",
    "print(plik)\n",
    "for linia in plik:\n",
    "    print(linia, end=\"\") # za każdym razem wypisuje linie (linia ma na końcu enter) i enter. Wynikiem są dwa enery na końcu każdej lini. Po to wpisałem end=\"\", by na końcu lini print nie wypisał nic. Wtedy zostanie tylko jeden enter\n",
    "plik.close()"
   ]
  },
  {
   "cell_type": "markdown",
   "id": "477298f4",
   "metadata": {},
   "source": [
    "#### 1.6.3 with"
   ]
  },
  {
   "cell_type": "code",
   "execution_count": 36,
   "id": "22c233ff",
   "metadata": {},
   "outputs": [
    {
     "name": "stdout",
     "output_type": "stream",
     "text": [
      "nie muszę martwić się o close\n"
     ]
    },
    {
     "data": {
      "text/plain": [
       "('linia 1\\nlinia 2\\n3\\n4\\n5\\n\\ntam była pusta linia tho\\nżółć\\n',\n",
       " ['linia 1\\n',\n",
       "  'linia 2\\n',\n",
       "  '3\\n',\n",
       "  '4\\n',\n",
       "  '5\\n',\n",
       "  '\\n',\n",
       "  'tam była pusta linia tho\\n',\n",
       "  'żółć\\n'])"
      ]
     },
     "execution_count": 36,
     "metadata": {},
     "output_type": "execute_result"
    }
   ],
   "source": [
    "with open(\"1.txt\", encoding=\"utf8\") as plik:\n",
    "    strFull = plik.read()\n",
    "    plik.seek(0) # przesuwa wskaźnik pliku na początek, abym mógł znowu odczytać cały plik\n",
    "    listFull = plik.readlines()\n",
    "    print(\"nie muszę martwić się o close\")\n",
    "(strFull, listFull) # na końcu każdej lini jest enter"
   ]
  },
  {
   "cell_type": "markdown",
   "id": "3c57e5a4",
   "metadata": {},
   "source": [
    "#### Usuwanie enterów"
   ]
  },
  {
   "cell_type": "code",
   "execution_count": 37,
   "id": "9cd93865",
   "metadata": {},
   "outputs": [
    {
     "data": {
      "text/plain": [
       "['linia 1', 'linia 2', '3', '4', '5', '', 'tam była pusta linia tho', 'żółć']"
      ]
     },
     "execution_count": 37,
     "metadata": {},
     "output_type": "execute_result"
    }
   ],
   "source": [
    "for i in range(len(listFull)):\n",
    "    listFull[i] = listFull[i].strip() #wykorzystanie strip\n",
    "listFull"
   ]
  },
  {
   "cell_type": "code",
   "execution_count": 38,
   "id": "7fce4cbd",
   "metadata": {},
   "outputs": [
    {
     "data": {
      "text/plain": [
       "['linia 1',\n",
       " 'linia 2',\n",
       " '3',\n",
       " '4',\n",
       " '5',\n",
       " '',\n",
       " 'tam była pusta linia tho',\n",
       " 'żółć',\n",
       " '']"
      ]
     },
     "execution_count": 38,
     "metadata": {},
     "output_type": "execute_result"
    }
   ],
   "source": [
    "list2Full = strFull.split(\"\\n\") #też jest fajne. w jednej linijce to wygląda tak: plik.read().strip(\\n)\n",
    "list2Full"
   ]
  },
  {
   "cell_type": "code",
   "execution_count": 39,
   "id": "f75f23e3",
   "metadata": {},
   "outputs": [
    {
     "data": {
      "text/plain": [
       "(['linia 1', 'linia 2', '3', '4', '5', '', 'tam była pusta linia tho', 'żółć'],\n",
       " ['linia 1', 'linia 2', '3', '4', '5', '', 'tam była pusta linia tho', 'żółć'])"
      ]
     },
     "execution_count": 39,
     "metadata": {},
     "output_type": "execute_result"
    }
   ],
   "source": [
    "list2Full.pop() # usunięcie ostatniego pustego stringa ma sens tylko, gdy na końcu pliku jest newline\n",
    "(listFull, list2Full)"
   ]
  },
  {
   "cell_type": "code",
   "execution_count": 40,
   "id": "e806c232",
   "metadata": {},
   "outputs": [
    {
     "name": "stdout",
     "output_type": "stream",
     "text": [
      "Ktoś dopisał do pliku 19:04:56\n",
      "Ktoś dopisał do pliku 19:05:01\n",
      "Ktoś dopisał do pliku 2021-11-28\n",
      "Ktoś dopisał do pliku 2021-11-28\n",
      "Ktoś dopisał do pliku 2021-11-28 19:06:03.962722\n",
      "Ktoś dopisał do pliku 2021-11-28 19:06:08.103471\n",
      "Ktoś dopisał do pliku 2021-11-28 19:06:56.090536\n",
      "Ktoś dopisał do pliku 2021-11-28 19:07:00.882875\n",
      "Ktoś dopisał do pliku 2021-11-28 19:07:05.636167\n",
      "Ktoś dopisał do pliku 2021-11-28 19:08:08.606773\n",
      "Ktoś dopisał do pliku 28/11/2021 19:08:39\n",
      "Ktoś dopisał do pliku 28/11/2021 19:08:42\n",
      "Ktoś dopisał do pliku 19:09:02 28.11.2021\n",
      "Ktoś dopisał do pliku 19:09:03 28.11.2021\n",
      "Ktoś dopisał do pliku 19:50:44 28.11.2021\n",
      "Ktoś dopisał do pliku 19:52:28 28.11.2021\n",
      "Ktoś dopisał do pliku 20:06:22 28.11.2021\n",
      "Ktoś dopisał do pliku 20:07:20 28.11.2021\n",
      "Ktoś dopisał do pliku 20:12:01 28.11.2021\n",
      "Ktoś dopisał do pliku 20:13:16 28.11.2021\n",
      "Ktoś dopisał do pliku 20:21:37 28.11.2021\n",
      "\n"
     ]
    }
   ],
   "source": [
    "with open('2.txt', encoding=\"utf8\") as file:\n",
    "    print(file.read())"
   ]
  }
 ],
 "metadata": {
  "kernelspec": {
   "display_name": "Python 3 (ipykernel)",
   "language": "python",
   "name": "python3"
  },
  "language_info": {
   "codemirror_mode": {
    "name": "ipython",
    "version": 3
   },
   "file_extension": ".py",
   "mimetype": "text/x-python",
   "name": "python",
   "nbconvert_exporter": "python",
   "pygments_lexer": "ipython3",
   "version": "3.9.7"
  }
 },
 "nbformat": 4,
 "nbformat_minor": 5
}
