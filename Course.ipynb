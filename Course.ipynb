{
 "cells": [
  {
   "cell_type": "markdown",
   "id": "e4c14658",
   "metadata": {},
   "source": [
    "# Python kurs"
   ]
  },
  {
   "cell_type": "markdown",
   "id": "f4dcf910",
   "metadata": {},
   "source": [
    "## Spis treści:\n",
    "- 1 Syntax\n",
    "    - 1.1 [Instrukcje sterujące](#1.1)\n",
    "        - 1.1.1 if, elif, else\n",
    "        - 1.1.2 pętla for\n",
    "        - 1.1.3 pętla while\n",
    "    - 1.2 [Operacje na tablicach](#1.2)\n",
    "        - 1.2.1 range\n",
    "        - 1.2.2 len\n",
    "        - 1.2.3 jeszcze raz for\n",
    "        - 1.2.4 enumarate\n",
    "        - 1.2.5 append, pop\n",
    "    - 1.3 [Operacje na stringach](#1.3)\n",
    "        - 1.3.1 Zaawansowane indeksy\n",
    "        - 1.3.2 strip, join, split\n",
    "        - 1.3.3 Tablica ASCII\n",
    "    - 1.4 [Zbiory](#1.4)\n",
    "        - 1.4.1 set\n",
    "        - 1.4.2 len\n",
    "    - 1.5 [Zmienne](#1.5)\n",
    "        - 1.5.1 Rzutowanie\n",
    "        - 1.5.2 input\n",
    "        - 1.5.3 Działanie arytmetyczne\n",
    "    - 1.6 [Biblioteki](#1.6)\n",
    "        - 1.6.1 math\n",
    "        - 1.6.2 from ... import\n",
    "        - 1.6.3 ... as\n",
    "    - 1.7 [Pliki](#1.7)\n",
    "        - 1.7.1 open, close\n",
    "        - 1.7.2 for ...\n",
    "        - 1.7.3 with\n",
    "        - 1.7.4 Usuwanie enterów\n",
    "- 2 Zaawansowane metody programistyczne\n",
    "    - 2.1 Rekurencja (recursion)\n",
    "    - 2.2 Nawroty (backtracking)\n",
    "- 3 Zadania maturalne"
   ]
  },
  {
   "cell_type": "markdown",
   "id": "8019e4e9",
   "metadata": {},
   "source": [
    "## 1 Syntax"
   ]
  },
  {
   "cell_type": "markdown",
   "id": "765e2995",
   "metadata": {},
   "source": [
    "<a class=\"anchor\" id=\"1.1\" ></a>\n",
    "### 1.1 Instrukcje sterujące"
   ]
  },
  {
   "cell_type": "markdown",
   "id": "74d28d8a",
   "metadata": {},
   "source": [
    "#### 1.1.1 if, elif, else"
   ]
  },
  {
   "cell_type": "code",
   "execution_count": 1,
   "id": "20b82388",
   "metadata": {},
   "outputs": [],
   "source": [
    "liczba = 15"
   ]
  },
  {
   "cell_type": "code",
   "execution_count": 2,
   "id": "ca63ef15",
   "metadata": {
    "scrolled": false
   },
   "outputs": [
    {
     "name": "stdout",
     "output_type": "stream",
     "text": [
      "między 10 i 20\n"
     ]
    }
   ],
   "source": [
    "if liczba < 10:\n",
    "    print(\"mniejsza niż 10\")\n",
    "elif liczba >= 10 and liczba < 20:\n",
    "    print(\"między 10 i 20\")\n",
    "else:\n",
    "    print(\"większe niż dziesięć\")"
   ]
  },
  {
   "cell_type": "markdown",
   "id": "b938906f",
   "metadata": {},
   "source": [
    "#### 1.1.2 pętla for"
   ]
  },
  {
   "cell_type": "code",
   "execution_count": 3,
   "id": "50db904a",
   "metadata": {},
   "outputs": [
    {
     "name": "stdout",
     "output_type": "stream",
     "text": [
      "2\n",
      "3\n",
      "4\n",
      "5\n",
      "6\n",
      "7\n",
      "8\n",
      "9\n"
     ]
    }
   ],
   "source": [
    "for i in range(2, 10):\n",
    "    print(i)"
   ]
  },
  {
   "cell_type": "markdown",
   "id": "de518b64",
   "metadata": {},
   "source": [
    "#### 1.1.3 pętla while"
   ]
  },
  {
   "cell_type": "markdown",
   "id": "22780925",
   "metadata": {},
   "source": [
    "<a class=\"anchor\" id=\"1.2\"></a>\n",
    "### 1.2 Operacje na tablicach"
   ]
  },
  {
   "cell_type": "code",
   "execution_count": 4,
   "id": "781d9459",
   "metadata": {},
   "outputs": [],
   "source": [
    "tab = [1, 2, 'napis', True, 3.14159] # lista - domyślna znana tablica\n",
    "uczniowie = {\n",
    "    \"Adam\": \"Tworzowski\",\n",
    "    2: 4\n",
    "} # słownik - podobny do obiektu w js. pary klucz-wartość\n",
    "krotka = (1, 2, 3, \"nie zmodywfikujesz jej Ty!\") # działa jak lista, ale nie zmodyfikujesz"
   ]
  },
  {
   "cell_type": "markdown",
   "id": "3f02494f",
   "metadata": {},
   "source": [
    "#### 1.2.1 range"
   ]
  },
  {
   "cell_type": "code",
   "execution_count": 5,
   "id": "40e17702",
   "metadata": {},
   "outputs": [],
   "source": [
    "start = 0 # domyślna wartość\n",
    "stop = 10 # argument obowiązkowy\n",
    "skok = 1 # domyślna wartość"
   ]
  },
  {
   "cell_type": "code",
   "execution_count": 6,
   "id": "e73ae80a",
   "metadata": {},
   "outputs": [
    {
     "name": "stdout",
     "output_type": "stream",
     "text": [
      "range(0, 10)\n",
      "range(0, 10)\n",
      "range(0, 10)\n",
      "[0, 1, 2, 3, 4, 5, 6, 7, 8, 9]\n"
     ]
    }
   ],
   "source": [
    "print(range(start, stop, skok))\n",
    "print(range(start, stop))\n",
    "print(range(stop))\n",
    "print(list(range(stop))) # aby wypisać range muszę zrobić konwersję na listę"
   ]
  },
  {
   "cell_type": "markdown",
   "id": "ebb02c8e",
   "metadata": {},
   "source": [
    "#### 1.2.2 len"
   ]
  },
  {
   "cell_type": "code",
   "execution_count": 7,
   "id": "7e8944aa",
   "metadata": {
    "scrolled": true
   },
   "outputs": [
    {
     "data": {
      "text/plain": [
       "5"
      ]
     },
     "execution_count": 7,
     "metadata": {},
     "output_type": "execute_result"
    }
   ],
   "source": [
    "len(tab)"
   ]
  },
  {
   "cell_type": "markdown",
   "id": "26a61408",
   "metadata": {},
   "source": [
    "#### 1.2.3 jeszcze raz for"
   ]
  },
  {
   "cell_type": "code",
   "execution_count": 8,
   "id": "217f9eb8",
   "metadata": {},
   "outputs": [
    {
     "name": "stdout",
     "output_type": "stream",
     "text": [
      "Adam Tworzowski\n",
      "2 4\n"
     ]
    }
   ],
   "source": [
    "for key in uczniowie:\n",
    "    print(key, uczniowie[key])"
   ]
  },
  {
   "cell_type": "code",
   "execution_count": 9,
   "id": "41a263fc",
   "metadata": {},
   "outputs": [
    {
     "name": "stdout",
     "output_type": "stream",
     "text": [
      "Adam -> Tworzowski\n",
      "2 -> 4\n"
     ]
    }
   ],
   "source": [
    "for (key, value) in uczniowie.items():\n",
    "    print(f\"{key} -> {value}\")"
   ]
  },
  {
   "cell_type": "code",
   "execution_count": 10,
   "id": "6eaad2b7",
   "metadata": {},
   "outputs": [
    {
     "name": "stdout",
     "output_type": "stream",
     "text": [
      "0 1\n",
      "1 2\n",
      "2 napis\n",
      "3 True\n",
      "4 3.14159\n"
     ]
    }
   ],
   "source": [
    "for i in range(len(tab)): #range(len()) kombo jest turbo często używane\n",
    "    print(i, tab[i])"
   ]
  },
  {
   "cell_type": "markdown",
   "id": "f27740b9",
   "metadata": {},
   "source": [
    "#### 1.2.4 enumarate"
   ]
  },
  {
   "cell_type": "code",
   "execution_count": 11,
   "id": "fa41f5b6",
   "metadata": {},
   "outputs": [],
   "source": [
    "start = 0 # domyślna wartość"
   ]
  },
  {
   "cell_type": "code",
   "execution_count": 12,
   "id": "429fb782",
   "metadata": {},
   "outputs": [
    {
     "name": "stdout",
     "output_type": "stream",
     "text": [
      "0 -> 1\n",
      "1 -> 2\n",
      "2 -> napis\n",
      "3 -> True\n",
      "4 -> 3.14159\n"
     ]
    }
   ],
   "source": [
    "for (index, value) in enumerate(tab, start):\n",
    "    print(f\"{index} -> {value}\")"
   ]
  },
  {
   "cell_type": "markdown",
   "id": "ba30505f",
   "metadata": {},
   "source": [
    "#### 1.2.5 append, pop"
   ]
  },
  {
   "cell_type": "code",
   "execution_count": 13,
   "id": "4265451a",
   "metadata": {},
   "outputs": [
    {
     "data": {
      "text/plain": [
       "[4, 16, 36]"
      ]
     },
     "execution_count": 13,
     "metadata": {},
     "output_type": "execute_result"
    }
   ],
   "source": [
    "example = [2, 4, 6]\n",
    "tab = []\n",
    "for i in example:\n",
    "    tab.append(i**2)\n",
    "\n",
    "tab"
   ]
  },
  {
   "cell_type": "code",
   "execution_count": 14,
   "id": "c7267755",
   "metadata": {},
   "outputs": [],
   "source": [
    "index = 1 # domyślnie pop usuwa ostatni element"
   ]
  },
  {
   "cell_type": "code",
   "execution_count": 15,
   "id": "60c74943",
   "metadata": {},
   "outputs": [
    {
     "name": "stdout",
     "output_type": "stream",
     "text": [
      "tab [1, 2]\n",
      "6 [2, 4]\n"
     ]
    }
   ],
   "source": [
    "tab = [1, \"to zostanie usuniete\", 2]\n",
    "tab.pop(index)\n",
    "usunięty = example.pop() # example to [2, 4, 6]\n",
    "print(\"tab\", tab)\n",
    "print(usunięty, example)"
   ]
  },
  {
   "cell_type": "markdown",
   "id": "37240d9e",
   "metadata": {},
   "source": [
    "<a class=\"anchor\" id=\"1.3\"></a>\n",
    "### 1.3 Operacje na stringach"
   ]
  },
  {
   "cell_type": "markdown",
   "id": "30f7a70b",
   "metadata": {},
   "source": [
    "#### 1.3.1 Zaawansowane indeksy"
   ]
  },
  {
   "cell_type": "code",
   "execution_count": 16,
   "id": "4f130210",
   "metadata": {},
   "outputs": [],
   "source": [
    "napis = \"Litwo, ojczyzno moja!\""
   ]
  },
  {
   "cell_type": "code",
   "execution_count": 17,
   "id": "2519df63",
   "metadata": {},
   "outputs": [
    {
     "data": {
      "text/plain": [
       "'!'"
      ]
     },
     "execution_count": 17,
     "metadata": {},
     "output_type": "execute_result"
    }
   ],
   "source": [
    "napis[-1] # ostatni element"
   ]
  },
  {
   "cell_type": "code",
   "execution_count": 18,
   "id": "051169de",
   "metadata": {},
   "outputs": [
    {
     "data": {
      "text/plain": [
       "'Litw'"
      ]
     },
     "execution_count": 18,
     "metadata": {},
     "output_type": "execute_result"
    }
   ],
   "source": [
    "napis[0:4] # pierwsze cztery znaki"
   ]
  },
  {
   "cell_type": "markdown",
   "id": "fa983096",
   "metadata": {},
   "source": [
    "operator : w indeksie działa jak range. pierwsza liczba to indeks poczatkowy, druga liczba do indeks końcowy.\n",
    "\n",
    "Przedział tworzony jest [start, stop)"
   ]
  },
  {
   "cell_type": "code",
   "execution_count": 19,
   "id": "6142e5ad",
   "metadata": {},
   "outputs": [
    {
     "data": {
      "text/plain": [
       "'!ajom onzyzcjo ,owtiL'"
      ]
     },
     "execution_count": 19,
     "metadata": {},
     "output_type": "execute_result"
    }
   ],
   "source": [
    "napis[::-1]"
   ]
  },
  {
   "cell_type": "markdown",
   "id": "9ba17747",
   "metadata": {},
   "source": [
    "operator :: działa podobnie.  "
   ]
  },
  {
   "cell_type": "markdown",
   "id": "ae756ce3",
   "metadata": {},
   "source": [
    "#### 1.3.2 strip, join, split"
   ]
  },
  {
   "cell_type": "code",
   "execution_count": 20,
   "id": "cb7dd5d0",
   "metadata": {},
   "outputs": [
    {
     "name": "stdout",
     "output_type": "stream",
     "text": [
      "\t   tekst\n",
      "\n"
     ]
    }
   ],
   "source": [
    "napis2 = \"\\t   tekst\\n\"\n",
    "print(napis2)"
   ]
  },
  {
   "cell_type": "code",
   "execution_count": 21,
   "id": "baeb031e",
   "metadata": {},
   "outputs": [
    {
     "data": {
      "text/plain": [
       "('\\t   tekst\\n', 'tekst')"
      ]
     },
     "execution_count": 21,
     "metadata": {},
     "output_type": "execute_result"
    }
   ],
   "source": [
    "napis3 = napis2.strip()\n",
    "(napis2, napis3)"
   ]
  },
  {
   "cell_type": "code",
   "execution_count": 22,
   "id": "1497eda2",
   "metadata": {},
   "outputs": [
    {
     "data": {
      "text/plain": [
       "'Samotność, cóż po ludziach'"
      ]
     },
     "execution_count": 22,
     "metadata": {},
     "output_type": "execute_result"
    }
   ],
   "source": [
    "text1 = \"Samotność, \"\n",
    "text2 = \"cóż po ludziach\"\n",
    "text1+text2"
   ]
  },
  {
   "cell_type": "code",
   "execution_count": 23,
   "id": "9abd139c",
   "metadata": {},
   "outputs": [
    {
     "name": "stdout",
     "output_type": "stream",
     "text": [
      "Infowakacj: Litwo, ojczyzno moja!\n",
      "Improwizacja: Samotność, cóż po ludziach\n"
     ]
    }
   ],
   "source": [
    "print(f\"Infowakacj: {napis.strip()}\\nImprowizacja: {text1}{text2}\")"
   ]
  },
  {
   "cell_type": "code",
   "execution_count": 24,
   "id": "573e8927",
   "metadata": {},
   "outputs": [
    {
     "data": {
      "text/plain": [
       "'pierwszy drugi trzeci'"
      ]
     },
     "execution_count": 24,
     "metadata": {},
     "output_type": "execute_result"
    }
   ],
   "source": [
    "tab = [\"pierwszy\", \"drugi\", \"trzeci\"]\n",
    "separator = \" \"\n",
    "separator.join(tab)"
   ]
  },
  {
   "cell_type": "code",
   "execution_count": 25,
   "id": "9bc950e0",
   "metadata": {},
   "outputs": [
    {
     "data": {
      "text/plain": [
       "'pierwszy drugi trzeci'"
      ]
     },
     "execution_count": 25,
     "metadata": {},
     "output_type": "execute_result"
    }
   ],
   "source": [
    "\" \".join(tab)"
   ]
  },
  {
   "cell_type": "code",
   "execution_count": 26,
   "id": "ac6993a5",
   "metadata": {},
   "outputs": [
    {
     "data": {
      "text/plain": [
       "'pierwszydrugitrzeci'"
      ]
     },
     "execution_count": 26,
     "metadata": {},
     "output_type": "execute_result"
    }
   ],
   "source": [
    "\"\".join(tab)"
   ]
  },
  {
   "cell_type": "code",
   "execution_count": 27,
   "id": "d2598012",
   "metadata": {},
   "outputs": [
    {
     "data": {
      "text/plain": [
       "['słowa', 'słowa', 'słowa']"
      ]
     },
     "execution_count": 27,
     "metadata": {},
     "output_type": "execute_result"
    }
   ],
   "source": [
    "treść = \"słowa słowa słowa\"\n",
    "tab = treść.split() # domyślnie dzieli po białych znakach\n",
    "tab"
   ]
  },
  {
   "cell_type": "code",
   "execution_count": 28,
   "id": "a566ca58",
   "metadata": {},
   "outputs": [
    {
     "data": {
      "text/plain": [
       "['s',\n",
       " 'ł',\n",
       " 'o',\n",
       " 'w',\n",
       " 'a',\n",
       " ' ',\n",
       " 's',\n",
       " 'ł',\n",
       " 'o',\n",
       " 'w',\n",
       " 'a',\n",
       " ' ',\n",
       " 's',\n",
       " 'ł',\n",
       " 'o',\n",
       " 'w',\n",
       " 'a']"
      ]
     },
     "execution_count": 28,
     "metadata": {},
     "output_type": "execute_result"
    }
   ],
   "source": [
    "tab = list(treść) # konwersja na listę\n",
    "tab"
   ]
  },
  {
   "cell_type": "markdown",
   "id": "0ab7d9d5",
   "metadata": {},
   "source": [
    "#### 1.3.3 Tablica ASCII"
   ]
  },
  {
   "cell_type": "code",
   "execution_count": 29,
   "id": "adcfe3a7",
   "metadata": {},
   "outputs": [
    {
     "data": {
      "text/plain": [
       "97"
      ]
     },
     "execution_count": 29,
     "metadata": {},
     "output_type": "execute_result"
    }
   ],
   "source": [
    "ord('a') # ord zwraca numer w tabeli ascii"
   ]
  },
  {
   "cell_type": "code",
   "execution_count": 30,
   "id": "6a431e44",
   "metadata": {},
   "outputs": [
    {
     "name": "stdout",
     "output_type": "stream",
     "text": [
      "76 105 116 119 111 44 32 111 106 99 122 121 122 110 111 32 109 111 106 97 33 "
     ]
    }
   ],
   "source": [
    "w = []\n",
    "for letter in napis:\n",
    "    print(ord(letter), end=\" \")\n",
    "    w.append(ord(letter))"
   ]
  },
  {
   "cell_type": "code",
   "execution_count": 31,
   "id": "2b9f5191",
   "metadata": {},
   "outputs": [
    {
     "data": {
      "text/plain": [
       "'a'"
      ]
     },
     "execution_count": 31,
     "metadata": {},
     "output_type": "execute_result"
    }
   ],
   "source": [
    "chr(97) # chr zwraca znak z tablicy ascii"
   ]
  },
  {
   "cell_type": "code",
   "execution_count": 32,
   "id": "b630c31a",
   "metadata": {},
   "outputs": [
    {
     "name": "stdout",
     "output_type": "stream",
     "text": [
      "Litwo, ojczyzno moja!"
     ]
    }
   ],
   "source": [
    "for ch in w:\n",
    "    print(chr(ch), end=\"\")"
   ]
  },
  {
   "cell_type": "code",
   "execution_count": 33,
   "id": "0f54ea94",
   "metadata": {},
   "outputs": [
    {
     "data": {
      "text/plain": [
       "0"
      ]
     },
     "execution_count": 33,
     "metadata": {},
     "output_type": "execute_result"
    }
   ],
   "source": [
    "alfabet = 'abcdefghijklmnopqrstuvwxyz'\n",
    "alfabet.index(\"a\") # metoda index zwraca pierwszy wystąpienie zanku"
   ]
  },
  {
   "cell_type": "markdown",
   "id": "a1961627",
   "metadata": {},
   "source": [
    "<a class=\"anchor\" id=\"1.4\"></a>\n",
    "### 1.4 Zbiory"
   ]
  },
  {
   "cell_type": "markdown",
   "id": "5cf97448",
   "metadata": {},
   "source": [
    "#### 1.4.1 set"
   ]
  },
  {
   "cell_type": "code",
   "execution_count": 34,
   "id": "2658d062",
   "metadata": {},
   "outputs": [],
   "source": [
    "tab = [8,2,3,2,1,4,2,3,1,5,7]"
   ]
  },
  {
   "cell_type": "code",
   "execution_count": 35,
   "id": "1aa09191",
   "metadata": {},
   "outputs": [
    {
     "data": {
      "text/plain": [
       "{1, 2, 3, 4, 5, 7, 8}"
      ]
     },
     "execution_count": 35,
     "metadata": {},
     "output_type": "execute_result"
    }
   ],
   "source": [
    "zbiór = set(tab)\n",
    "zbiór"
   ]
  },
  {
   "cell_type": "markdown",
   "id": "01104233",
   "metadata": {},
   "source": [
    "#### 1.4.2 len"
   ]
  },
  {
   "cell_type": "code",
   "execution_count": 36,
   "id": "6c76d8b3",
   "metadata": {},
   "outputs": [
    {
     "data": {
      "text/plain": [
       "7"
      ]
     },
     "execution_count": 36,
     "metadata": {},
     "output_type": "execute_result"
    }
   ],
   "source": [
    "len(zbiór)"
   ]
  },
  {
   "cell_type": "markdown",
   "id": "8c80fea8",
   "metadata": {},
   "source": [
    "<a class=\"anchor\" id=\"1.5\"></a>\n",
    "### 1.5 Zmienne"
   ]
  },
  {
   "cell_type": "markdown",
   "id": "8e31d499",
   "metadata": {},
   "source": [
    "#### 1.5.1 Rzutowanie"
   ]
  },
  {
   "cell_type": "code",
   "execution_count": 37,
   "id": "a41ee165",
   "metadata": {},
   "outputs": [],
   "source": [
    "strPi = \"3.14159\""
   ]
  },
  {
   "cell_type": "code",
   "execution_count": 38,
   "id": "174f000f",
   "metadata": {},
   "outputs": [
    {
     "data": {
      "text/plain": [
       "3.14159"
      ]
     },
     "execution_count": 38,
     "metadata": {},
     "output_type": "execute_result"
    }
   ],
   "source": [
    "floatPi = float(strPi)\n",
    "floatPi"
   ]
  },
  {
   "cell_type": "code",
   "execution_count": 39,
   "id": "4bccec7c",
   "metadata": {},
   "outputs": [
    {
     "name": "stdout",
     "output_type": "stream",
     "text": [
      "invalid literal for int() with base 10: '3.14159'\n"
     ]
    }
   ],
   "source": [
    "try:\n",
    "    int(strPi)\n",
    "except ValueError as err:\n",
    "    print(err)"
   ]
  },
  {
   "cell_type": "code",
   "execution_count": 40,
   "id": "ea8c4761",
   "metadata": {},
   "outputs": [
    {
     "data": {
      "text/plain": [
       "3"
      ]
     },
     "execution_count": 40,
     "metadata": {},
     "output_type": "execute_result"
    }
   ],
   "source": [
    "intPi = int(floatPi)\n",
    "intPi"
   ]
  },
  {
   "cell_type": "code",
   "execution_count": 41,
   "id": "3de70364",
   "metadata": {},
   "outputs": [
    {
     "name": "stdout",
     "output_type": "stream",
     "text": [
      "<class 'str'> <class 'float'> <class 'int'>\n"
     ]
    }
   ],
   "source": [
    "print(type(strPi), type(floatPi), type(intPi))"
   ]
  },
  {
   "cell_type": "markdown",
   "id": "a96d8a52",
   "metadata": {},
   "source": [
    "#### 1.5.2 input"
   ]
  },
  {
   "cell_type": "code",
   "execution_count": 42,
   "id": "c247eb69",
   "metadata": {},
   "outputs": [
    {
     "data": {
      "text/plain": [
       "('3', str)"
      ]
     },
     "execution_count": 42,
     "metadata": {},
     "output_type": "execute_result"
    }
   ],
   "source": [
    "x = input(\"Podaj liczbe: \")\n",
    "(x, type(x))"
   ]
  },
  {
   "cell_type": "markdown",
   "id": "7e237f5a",
   "metadata": {},
   "source": [
    "input wszystko interpretuje jako napis. Aby mieć liczbę:"
   ]
  },
  {
   "cell_type": "code",
   "execution_count": 43,
   "id": "c76af93d",
   "metadata": {},
   "outputs": [
    {
     "data": {
      "text/plain": [
       "(3, int)"
      ]
     },
     "execution_count": 43,
     "metadata": {},
     "output_type": "execute_result"
    }
   ],
   "source": [
    "x = int(input(\"Podaj liczbe: \"))\n",
    "(x, type(x))"
   ]
  },
  {
   "cell_type": "markdown",
   "id": "01d309d1",
   "metadata": {},
   "source": [
    "#### 1.5.3 Działania arytmetyczne"
   ]
  },
  {
   "cell_type": "code",
   "execution_count": 44,
   "id": "cac0ce33",
   "metadata": {},
   "outputs": [
    {
     "name": "stdout",
     "output_type": "stream",
     "text": [
      "1.5\n",
      "1\n",
      "1\n",
      "9\n",
      "1024\n",
      "45\n"
     ]
    }
   ],
   "source": [
    "print(3/2)\n",
    "print(3//2) # dzielenie całkowite\n",
    "print(3%2) # reszta z dzielenia\n",
    "print(3**2) # potęga\n",
    "print(1<<10) # przesunięcie bitowe. de facto a<<b = a * 2**b. bardzo szybkie\n",
    "print(360>>3) # analogicznie a>>b = a / 2**b"
   ]
  },
  {
   "cell_type": "markdown",
   "id": "759fb7c1",
   "metadata": {},
   "source": [
    "<a class=\"anchor\" id=\"1.6\"></a>\n",
    "### 1.6 Biblioteki"
   ]
  },
  {
   "cell_type": "markdown",
   "id": "7d1a7b20",
   "metadata": {},
   "source": [
    "#### 1.6.1 math"
   ]
  },
  {
   "cell_type": "code",
   "execution_count": 45,
   "id": "8eb6bf48",
   "metadata": {},
   "outputs": [
    {
     "name": "stdout",
     "output_type": "stream",
     "text": [
      "<module 'math' (built-in)>\n"
     ]
    }
   ],
   "source": [
    "import math\n",
    "print(math)"
   ]
  },
  {
   "cell_type": "code",
   "execution_count": 46,
   "id": "f484e95c",
   "metadata": {},
   "outputs": [
    {
     "name": "stdout",
     "output_type": "stream",
     "text": [
      "8.306623862918075\n"
     ]
    }
   ],
   "source": [
    "print(math.sqrt(69))"
   ]
  },
  {
   "cell_type": "code",
   "execution_count": 47,
   "id": "d57ada8e",
   "metadata": {},
   "outputs": [
    {
     "data": {
      "text/plain": [
       "(2.718281828459045, 3.141592653589793)"
      ]
     },
     "execution_count": 47,
     "metadata": {},
     "output_type": "execute_result"
    }
   ],
   "source": [
    "(math.e, math.pi)"
   ]
  },
  {
   "cell_type": "code",
   "execution_count": 48,
   "id": "893fb225",
   "metadata": {},
   "outputs": [
    {
     "name": "stdout",
     "output_type": "stream",
     "text": [
      "π = 3\n",
      "e = 3\n"
     ]
    }
   ],
   "source": [
    "print(f\"\\u03C0 = {math.floor(math.pi)}\\ne = {math.ceil(math.e)}\")"
   ]
  },
  {
   "cell_type": "markdown",
   "id": "d2b8b488",
   "metadata": {},
   "source": [
    "#### 1.6.2 from ... import"
   ]
  },
  {
   "cell_type": "code",
   "execution_count": 49,
   "id": "c0c31e37",
   "metadata": {},
   "outputs": [],
   "source": [
    "from math import sin, cos"
   ]
  },
  {
   "cell_type": "code",
   "execution_count": 50,
   "id": "e600343b",
   "metadata": {},
   "outputs": [
    {
     "data": {
      "text/plain": [
       "1.2246467991473532e-16"
      ]
     },
     "execution_count": 50,
     "metadata": {},
     "output_type": "execute_result"
    }
   ],
   "source": [
    "sin(math.pi)"
   ]
  },
  {
   "cell_type": "markdown",
   "id": "36b3ea15",
   "metadata": {},
   "source": [
    "#### 1.6.3 ... as"
   ]
  },
  {
   "cell_type": "code",
   "execution_count": 51,
   "id": "08fd1876",
   "metadata": {},
   "outputs": [],
   "source": [
    "import numpy as np"
   ]
  },
  {
   "cell_type": "code",
   "execution_count": 52,
   "id": "aaadb72d",
   "metadata": {},
   "outputs": [
    {
     "data": {
      "text/plain": [
       "array([1. , 1.1, 1.2, 1.3, 1.4, 1.5, 1.6, 1.7, 1.8, 1.9, 2. ])"
      ]
     },
     "execution_count": 52,
     "metadata": {},
     "output_type": "execute_result"
    }
   ],
   "source": [
    "np.linspace(start=1, stop=2, num=11) # linspace to funcja biblioteki numpy, która zwraca array ciągu arytmetycznego od-do ileśtam elementów"
   ]
  },
  {
   "cell_type": "markdown",
   "id": "b5800887",
   "metadata": {},
   "source": [
    "<a class=\"anchor\" id=\"1.7\"></a>\n",
    "### 1.7 Pliki"
   ]
  },
  {
   "cell_type": "markdown",
   "id": "63fdd0c9",
   "metadata": {},
   "source": [
    "#### 1.7.1 open, close"
   ]
  },
  {
   "cell_type": "code",
   "execution_count": 53,
   "id": "278989d7",
   "metadata": {},
   "outputs": [
    {
     "ename": "FileNotFoundError",
     "evalue": "[Errno 2] No such file or directory: '1.txt'",
     "output_type": "error",
     "traceback": [
      "\u001b[1;31m---------------------------------------------------------------------------\u001b[0m",
      "\u001b[1;31mFileNotFoundError\u001b[0m                         Traceback (most recent call last)",
      "\u001b[1;32m~\\AppData\\Local\\Temp/ipykernel_3144/3066483229.py\u001b[0m in \u001b[0;36m<module>\u001b[1;34m\u001b[0m\n\u001b[0;32m      1\u001b[0m \u001b[0mtryb\u001b[0m \u001b[1;33m=\u001b[0m \u001b[1;34m'r'\u001b[0m \u001b[1;31m# domyślnie jest r\u001b[0m\u001b[1;33m\u001b[0m\u001b[1;33m\u001b[0m\u001b[0m\n\u001b[1;32m----> 2\u001b[1;33m \u001b[0mplik\u001b[0m \u001b[1;33m=\u001b[0m \u001b[0mopen\u001b[0m\u001b[1;33m(\u001b[0m\u001b[1;34m'1.txt'\u001b[0m \u001b[1;33m,\u001b[0m \u001b[0mtryb\u001b[0m\u001b[1;33m)\u001b[0m\u001b[1;33m\u001b[0m\u001b[1;33m\u001b[0m\u001b[0m\n\u001b[0m\u001b[0;32m      3\u001b[0m \u001b[0mprint\u001b[0m\u001b[1;33m(\u001b[0m\u001b[0mplik\u001b[0m\u001b[1;33m)\u001b[0m\u001b[1;33m\u001b[0m\u001b[1;33m\u001b[0m\u001b[0m\n\u001b[0;32m      4\u001b[0m \u001b[0mplik\u001b[0m\u001b[1;33m.\u001b[0m\u001b[0mclose\u001b[0m\u001b[1;33m(\u001b[0m\u001b[1;33m)\u001b[0m\u001b[1;33m\u001b[0m\u001b[1;33m\u001b[0m\u001b[0m\n",
      "\u001b[1;31mFileNotFoundError\u001b[0m: [Errno 2] No such file or directory: '1.txt'"
     ]
    }
   ],
   "source": [
    "tryb = 'r' # domyślnie jest r\n",
    "plik = open('1.txt' , tryb)\n",
    "print(plik)\n",
    "plik.close()"
   ]
  },
  {
   "cell_type": "markdown",
   "id": "8b358da9",
   "metadata": {},
   "source": [
    "Tryby otwierania (skopiowałem z neta)\n",
    "- r for reading – The file pointer is placed at the beginning of the file. This is the default mode.\n",
    "- r+ Opens a file for both reading and writing. The file pointer will be at the beginning of the file.\n",
    "- w Opens a file for writing only. Overwrites the file if the file exists. If the file does not exist, creates a new file for writing.\n",
    "- w+ Opens a file for both writing and reading. Overwrites the existing file if the file exists. If the file does not exist, it creates a new file for reading and writing.\n",
    "- rb Opens a file for reading only in binary format. The file pointer is placed at the beginning of the file.\n",
    "- rb+ Opens a file for both reading and writing in binary format.\n",
    "- wb+ Opens a file for both writing and reading in binary format. Overwrites the existing file if the file exists. If the file does not exist, it creates a new file for reading and writing.\n",
    "- a Opens a file for appending. The file pointer is at the end of the file if the file exists. That is, the file is in the append mode. If the file does not exist, it creates a new file for writing.\n",
    "- ab Opens a file for appending in binary format. The file pointer is at the end of the file if the file exists. That is, the file is in the append mode. If the file does not exist, it creates a - new file for writing.\n",
    "- a+ Opens a file for both appending and reading. The file pointer is at the end of the file if the file exists. The file opens in the append mode. If the file does not exist, it creates a new file for reading and writing.\n",
    "- ab+ Opens a file for both appending and reading in binary format. The file pointer is at the end of the file if the file exists. The file opens in the append mode. If the file does not exist, it creates a new file for reading and writing.\n",
    "- x open for exclusive creation, failing if the file already exists (Python 3)"
   ]
  },
  {
   "cell_type": "markdown",
   "id": "a530ce17",
   "metadata": {},
   "source": [
    "De facto wystarczy zapamiętać\n",
    "- r - read - domyślny, służy do czytania, zaczyna czytać od początku (duh)\n",
    "- w - write - służy do zapisu, tworzy plik jak nie ma i NADpisuje jak jest (stara zawartość pliku jest tracona). Zaczyna od początku\n",
    "- a - append - służy do dopisywania, tworzy jak nie ma i dopisuje jak jest. Dopisuje oczywiście do końca"
   ]
  },
  {
   "cell_type": "code",
   "execution_count": null,
   "id": "95ab88dc",
   "metadata": {},
   "outputs": [],
   "source": [
    "from datetime import datetime\n",
    "plik = open('2.txt', 'a', encoding=\"utf8\")\n",
    "teraz = datetime.now().strftime(\"%H:%M:%S %d.%m.%Y\")\n",
    "plik.write(f\"Ktoś dopisał do pliku {teraz}\\n\")\n",
    "plik.close()"
   ]
  },
  {
   "cell_type": "markdown",
   "id": "de5a5925",
   "metadata": {},
   "source": [
    "#### 1.7.2 for"
   ]
  },
  {
   "cell_type": "code",
   "execution_count": null,
   "id": "2d857bf6",
   "metadata": {},
   "outputs": [
    {
     "name": "stdout",
     "output_type": "stream",
     "text": [
      "linia 1\n",
      "\n",
      "linia 2\n",
      "\n",
      "3\n",
      "\n",
      "4\n",
      "\n",
      "5\n",
      "\n",
      "\n",
      "\n",
      "tam byĹ‚a pusta linia tho\n",
      "\n",
      "ĹĽĂłĹ‚Ä‡\n",
      "\n"
     ]
    }
   ],
   "source": [
    "plik = open('1.txt')\n",
    "for linia in plik:\n",
    "    print(linia)\n",
    "plik.close()"
   ]
  },
  {
   "cell_type": "code",
   "execution_count": null,
   "id": "89556aac",
   "metadata": {},
   "outputs": [
    {
     "name": "stdout",
     "output_type": "stream",
     "text": [
      "<_io.TextIOWrapper name='1.txt' mode='r' encoding='utf8'>\n",
      "linia 1\n",
      "linia 2\n",
      "3\n",
      "4\n",
      "5\n",
      "\n",
      "tam była pusta linia tho\n",
      "żółć\n"
     ]
    }
   ],
   "source": [
    "plik = open('1.txt', encoding='utf8')\n",
    "print(plik)\n",
    "for linia in plik:\n",
    "    print(linia, end=\"\") # za każdym razem wypisuje linie (linia ma na końcu enter) i enter. Wynikiem są dwa enery na końcu każdej lini. Po to wpisałem end=\"\", by na końcu lini print nie wypisał nic. Wtedy zostanie tylko jeden enter\n",
    "plik.close()"
   ]
  },
  {
   "cell_type": "markdown",
   "id": "9bc5ba1c",
   "metadata": {},
   "source": [
    "#### 1.7.3 with"
   ]
  },
  {
   "cell_type": "code",
   "execution_count": null,
   "id": "4ad59293",
   "metadata": {},
   "outputs": [
    {
     "name": "stdout",
     "output_type": "stream",
     "text": [
      "nie muszę martwić się o close\n"
     ]
    },
    {
     "data": {
      "text/plain": [
       "('linia 1\\nlinia 2\\n3\\n4\\n5\\n\\ntam była pusta linia tho\\nżółć\\n',\n",
       " ['linia 1\\n',\n",
       "  'linia 2\\n',\n",
       "  '3\\n',\n",
       "  '4\\n',\n",
       "  '5\\n',\n",
       "  '\\n',\n",
       "  'tam była pusta linia tho\\n',\n",
       "  'żółć\\n'])"
      ]
     },
     "execution_count": 57,
     "metadata": {},
     "output_type": "execute_result"
    }
   ],
   "source": [
    "with open(\"1.txt\", encoding=\"utf8\") as plik:\n",
    "    strFull = plik.read()\n",
    "    plik.seek(0) # przesuwa wskaźnik pliku na początek, abym mógł znowu odczytać cały plik\n",
    "    listFull = plik.readlines()\n",
    "    print(\"nie muszę martwić się o close\")\n",
    "(strFull, listFull) # na końcu każdej lini jest enter"
   ]
  },
  {
   "cell_type": "markdown",
   "id": "523317d3",
   "metadata": {},
   "source": [
    "#### 1.7.4 Usuwanie enterów"
   ]
  },
  {
   "cell_type": "code",
   "execution_count": null,
   "id": "9d199956",
   "metadata": {},
   "outputs": [
    {
     "data": {
      "text/plain": [
       "['linia 1', 'linia 2', '3', '4', '5', '', 'tam była pusta linia tho', 'żółć']"
      ]
     },
     "execution_count": 58,
     "metadata": {},
     "output_type": "execute_result"
    }
   ],
   "source": [
    "for i in range(len(listFull)):\n",
    "    listFull[i] = listFull[i].strip() #wykorzystanie strip\n",
    "listFull"
   ]
  },
  {
   "cell_type": "code",
   "execution_count": null,
   "id": "8f869233",
   "metadata": {},
   "outputs": [
    {
     "data": {
      "text/plain": [
       "['linia 1',\n",
       " 'linia 2',\n",
       " '3',\n",
       " '4',\n",
       " '5',\n",
       " '',\n",
       " 'tam była pusta linia tho',\n",
       " 'żółć',\n",
       " '']"
      ]
     },
     "execution_count": 59,
     "metadata": {},
     "output_type": "execute_result"
    }
   ],
   "source": [
    "list2Full = strFull.split(\"\\n\") #też jest fajne. w jednej linijce to wygląda tak: plik.read().strip(\\n)\n",
    "list2Full"
   ]
  },
  {
   "cell_type": "code",
   "execution_count": null,
   "id": "3bddb149",
   "metadata": {},
   "outputs": [
    {
     "data": {
      "text/plain": [
       "(['linia 1', 'linia 2', '3', '4', '5', '', 'tam była pusta linia tho', 'żółć'],\n",
       " ['linia 1', 'linia 2', '3', '4', '5', '', 'tam była pusta linia tho', 'żółć'])"
      ]
     },
     "execution_count": 60,
     "metadata": {},
     "output_type": "execute_result"
    }
   ],
   "source": [
    "list2Full.pop() # usunięcie ostatniego pustego stringa ma sens tylko, gdy na końcu pliku jest newline (co jest zalecane przez tam mądrych użytkowników komputera, ale Ci, co piszą matury się tam nie zaliczają :(, więc nie zawsze tak będzie)\n",
    "(listFull, list2Full)"
   ]
  },
  {
   "cell_type": "code",
   "execution_count": null,
   "id": "bb001693",
   "metadata": {},
   "outputs": [
    {
     "name": "stdout",
     "output_type": "stream",
     "text": [
      "Ktoś dopisał do pliku 19:04:56\n",
      "Ktoś dopisał do pliku 19:05:01\n",
      "Ktoś dopisał do pliku 2021-11-28\n",
      "Ktoś dopisał do pliku 2021-11-28\n",
      "Ktoś dopisał do pliku 2021-11-28 19:06:03.962722\n",
      "Ktoś dopisał do pliku 2021-11-28 19:06:08.103471\n",
      "Ktoś dopisał do pliku 2021-11-28 19:06:56.090536\n",
      "Ktoś dopisał do pliku 2021-11-28 19:07:00.882875\n",
      "Ktoś dopisał do pliku 2021-11-28 19:07:05.636167\n",
      "Ktoś dopisał do pliku 2021-11-28 19:08:08.606773\n",
      "Ktoś dopisał do pliku 28/11/2021 19:08:39\n",
      "Ktoś dopisał do pliku 28/11/2021 19:08:42\n",
      "Ktoś dopisał do pliku 19:09:02 28.11.2021\n",
      "Ktoś dopisał do pliku 19:09:03 28.11.2021\n",
      "Ktoś dopisał do pliku 19:50:44 28.11.2021\n",
      "Ktoś dopisał do pliku 19:52:28 28.11.2021\n",
      "Ktoś dopisał do pliku 20:06:22 28.11.2021\n",
      "Ktoś dopisał do pliku 20:07:20 28.11.2021\n",
      "Ktoś dopisał do pliku 20:12:01 28.11.2021\n",
      "Ktoś dopisał do pliku 20:13:16 28.11.2021\n",
      "Ktoś dopisał do pliku 20:21:37 28.11.2021\n",
      "Ktoś dopisał do pliku 21:37:21 28.11.2021\n",
      "Ktoś dopisał do pliku 20:37:51 28.11.2021\n",
      "Ktoś dopisał do pliku 22:26:45 28.11.2021\n",
      "Ktoś dopisał do pliku 18:38:05 29.11.2021\n",
      "\n"
     ]
    }
   ],
   "source": [
    "with open('2.txt', encoding=\"utf8\") as file:\n",
    "    print(file.read())"
   ]
  }
 ],
 "metadata": {
  "celltoolbar": "Raw Cell Format",
  "kernelspec": {
   "display_name": "Python 3 (ipykernel)",
   "language": "python",
   "name": "python3"
  },
  "language_info": {
   "codemirror_mode": {
    "name": "ipython",
    "version": 3
   },
   "file_extension": ".py",
   "mimetype": "text/x-python",
   "name": "python",
   "nbconvert_exporter": "python",
   "pygments_lexer": "ipython3",
   "version": "3.9.7"
  }
 },
 "nbformat": 4,
 "nbformat_minor": 5
}
