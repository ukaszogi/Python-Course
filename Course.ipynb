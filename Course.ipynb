{
 "cells": [
  {
   "cell_type": "markdown",
   "metadata": {},
   "source": [
    "# Python kurs"
   ]
  },
  {
   "cell_type": "markdown",
   "metadata": {},
   "source": [
    "## Spis treści:\n",
    "- 1 Sytax\n",
    "    - 1.1 [Instrukcje sterujące](#1.1)\n",
    "        - 1.1.1 if, elif, else\n",
    "        - 1.1.2 pętla for\n",
    "        - 1.1.3 pętla while\n",
    "    - 1.2 [Operacje na tablicach](#1.2)\n",
    "        - 1.2.1 range\n",
    "        - 1.2.2 len\n",
    "        - 1.2.3 jeszcze raz for\n",
    "        - 1.2.4 enumarate\n",
    "        - 1.2.5 append, pop\n",
    "    - 1.3 [Operacje na stringach](#1.3)\n",
    "    - 1.4 [Zmienne](#1.4)\n",
    "        - 1.4.1 Rzutowanie\n",
    "        - 1.4.2 input\n",
    "        - 1.4.3 Działanie arytmetyczne\n",
    "    - 1.5 [Biblioteki](#1.5)\n",
    "        - 1.5.1 math\n",
    "        - 1.5.2 from ... import\n",
    "        - 1.5.3 ... as\n",
    "    - 1.6 [Pliki](#1.6)\n",
    "        - 1.6.1 open, close\n",
    "        - 1.6.2 for ...\n",
    "        - 1.6.3 with\n",
    "- 2 Zaawansowane metody programistyczne"
   ]
  },
  {
   "cell_type": "markdown",
   "metadata": {},
   "source": [
    "## 1 Syntax"
   ]
  },
  {
   "cell_type": "markdown",
   "metadata": {},
   "source": [
    "<a class=\"anchor\" id=\"1.1\" ></a>\n",
    "### 1.1 Instrukcje sterujące"
   ]
  },
  {
   "cell_type": "markdown",
   "metadata": {},
   "source": [
    "#### 1.1.1 if, elif, else"
   ]
  },
  {
   "cell_type": "code",
   "execution_count": 10,
   "metadata": {},
   "outputs": [],
   "source": [
    "liczba = 15"
   ]
  },
  {
   "cell_type": "code",
   "execution_count": 11,
   "metadata": {
    "scrolled": false
   },
   "outputs": [
    {
     "name": "stdout",
     "output_type": "stream",
     "text": [
      "między 10 i 20\n"
     ]
    }
   ],
   "source": [
    "if liczba < 10:\n",
    "    print(\"mniejsza niż 10\")\n",
    "elif liczba >= 10 and liczba < 20:\n",
    "    print(\"między 10 i 20\")\n",
    "else:\n",
    "    print(\"większe niż dziesięć\")"
   ]
  },
  {
   "cell_type": "markdown",
   "metadata": {},
   "source": [
    "#### 1.1.2 pętla for"
   ]
  },
  {
   "cell_type": "code",
   "execution_count": 12,
   "metadata": {},
   "outputs": [
    {
     "name": "stdout",
     "output_type": "stream",
     "text": [
      "2\n",
      "3\n",
      "4\n",
      "5\n",
      "6\n",
      "7\n",
      "8\n",
      "9\n"
     ]
    }
   ],
   "source": [
    "for i in range(2, 10):\n",
    "    print(i)"
   ]
  },
  {
   "cell_type": "markdown",
   "metadata": {},
   "source": [
    "#### 1.1.3 pętla while"
   ]
  },
  {
   "cell_type": "markdown",
   "metadata": {},
   "source": [
    "<a class=\"anchor\" id=\"1.2\"></a>\n",
    "### 1.2 Operacje na tablicach"
   ]
  },
  {
   "cell_type": "code",
   "execution_count": 4,
   "metadata": {},
   "outputs": [],
   "source": [
    "tab = [1, 2, 'napis', True, 3.14159] # lista - domyślna znana tablica\n",
    "uczniowie = {\n",
    "    \"Adam\": \"Tworzowski\",\n",
    "    2: 4\n",
    "} # słownik - podobny do obiektu w js. pary klucz-wartość\n",
    "krotka = (1, 2, 3, \"nie zmodywfikujesz jej Ty!\") # działa jak lista, ale nie zmodyfikujesz"
   ]
  },
  {
   "cell_type": "markdown",
   "metadata": {},
   "source": [
    "#### 1.2.1 range"
   ]
  },
  {
   "cell_type": "code",
   "execution_count": 5,
   "metadata": {},
   "outputs": [],
   "source": [
    "start = 0 # domyślna wartość\n",
    "stop = 10 # argument obowiązkowy\n",
    "skok = 1 # domyślna wartość"
   ]
  },
  {
   "cell_type": "code",
   "execution_count": 6,
   "metadata": {},
   "outputs": [
    {
     "name": "stdout",
     "output_type": "stream",
     "text": [
      "range(0, 10)\n",
      "range(0, 10)\n",
      "range(0, 10)\n",
      "[0, 1, 2, 3, 4, 5, 6, 7, 8, 9]\n"
     ]
    }
   ],
   "source": [
    "print(range(start, stop, skok))\n",
    "print(range(start, stop))\n",
    "print(range(stop))\n",
    "print(list(range(stop))) # aby wypisać range muszę zrobić konwersję na listę"
   ]
  },
  {
   "cell_type": "markdown",
   "metadata": {},
   "source": [
    "#### 1.2.2 len"
   ]
  },
  {
   "cell_type": "code",
   "execution_count": 7,
   "metadata": {
    "scrolled": true
   },
   "outputs": [
    {
     "data": {
      "text/plain": [
       "5"
      ]
     },
     "execution_count": 7,
     "metadata": {},
     "output_type": "execute_result"
    }
   ],
   "source": [
    "len(tab)"
   ]
  },
  {
   "cell_type": "markdown",
   "metadata": {},
   "source": [
    "#### 1.2.3 jeszcze raz for"
   ]
  },
  {
   "cell_type": "code",
   "execution_count": 8,
   "metadata": {},
   "outputs": [
    {
     "name": "stdout",
     "output_type": "stream",
     "text": [
      "Adam Tworzowski\n",
      "2 4\n"
     ]
    }
   ],
   "source": [
    "for key in uczniowie:\n",
    "    print(key, uczniowie[key])"
   ]
  },
  {
   "cell_type": "code",
   "execution_count": 9,
   "metadata": {},
   "outputs": [
    {
     "name": "stdout",
     "output_type": "stream",
     "text": [
      "Adam -> Tworzowski\n",
      "2 -> 4\n"
     ]
    }
   ],
   "source": [
    "for (key, value) in uczniowie.items():\n",
    "    print(f\"{key} -> {value}\")"
   ]
  },
  {
   "cell_type": "code",
   "execution_count": 10,
   "metadata": {},
   "outputs": [
    {
     "name": "stdout",
     "output_type": "stream",
     "text": [
      "0 1\n",
      "1 2\n",
      "2 napis\n",
      "3 True\n",
      "4 3.14159\n"
     ]
    }
   ],
   "source": [
    "for i in range(len(tab)): #range(len()) kombo jest turbo często używane\n",
    "    print(i, tab[i])"
   ]
  },
  {
   "cell_type": "markdown",
   "metadata": {},
   "source": [
    "#### 1.2.4 enumarate"
   ]
  },
  {
   "cell_type": "code",
   "execution_count": 11,
   "metadata": {},
   "outputs": [],
   "source": [
    "start = 0 # domyślna wartość"
   ]
  },
  {
   "cell_type": "code",
   "execution_count": 12,
   "metadata": {},
   "outputs": [
    {
     "name": "stdout",
     "output_type": "stream",
     "text": [
      "0 -> 1\n",
      "1 -> 2\n",
      "2 -> napis\n",
      "3 -> True\n",
      "4 -> 3.14159\n"
     ]
    }
   ],
   "source": [
    "for (index, value) in enumerate(tab, start):\n",
    "    print(f\"{index} -> {value}\")"
   ]
  },
  {
   "cell_type": "markdown",
   "metadata": {},
   "source": [
    "#### 1.2.5 append, pop"
   ]
  },
  {
   "cell_type": "code",
   "execution_count": 14,
   "metadata": {},
   "outputs": [
    {
     "data": {
      "text/plain": [
       "[4, 16, 36]"
      ]
     },
     "execution_count": 14,
     "metadata": {},
     "output_type": "execute_result"
    }
   ],
   "source": [
    "example = [2, 4, 6]\n",
    "tab = []\n",
    "for i in example:\n",
    "    tab.append(i**2)\n",
    "\n",
    "tab"
   ]
  },
  {
   "cell_type": "code",
   "execution_count": 16,
   "metadata": {},
   "outputs": [],
   "source": [
    "index = 1 # domyślnie pop usuwa ostatni element"
   ]
  },
  {
   "cell_type": "code",
   "execution_count": 17,
   "metadata": {},
   "outputs": [
    {
     "name": "stdout",
     "output_type": "stream",
     "text": [
      "tab [1, 2]\n",
      "6 [2, 4]\n"
     ]
    }
   ],
   "source": [
    "tab = [1, \"to zostanie usuniete\", 2]\n",
    "tab.pop(index)\n",
    "usunięty = example.pop() # example to [2, 4, 6]\n",
    "print(\"tab\", tab)\n",
    "print(usunięty, example)"
   ]
  },
  {
   "cell_type": "markdown",
   "metadata": {},
   "source": [
    "<a class=\"anchor\" id=\"1.3\"></a>\n",
    "### 1.3 Operacje na stringach"
   ]
  },
  {
   "cell_type": "markdown",
   "metadata": {},
   "source": [
    "#### 1.3.1 Zaawansowane indeksy"
   ]
  },
  {
   "cell_type": "code",
   "execution_count": 34,
   "metadata": {},
   "outputs": [],
   "source": [
    "napis = \"Litwo, ojczyzno moja!\""
   ]
  },
  {
   "cell_type": "code",
   "execution_count": 3,
   "metadata": {},
   "outputs": [
    {
     "data": {
      "text/plain": [
       "'!'"
      ]
     },
     "execution_count": 3,
     "metadata": {},
     "output_type": "execute_result"
    }
   ],
   "source": [
    "napis[-1] # ostatni element"
   ]
  },
  {
   "cell_type": "code",
   "execution_count": 19,
   "metadata": {},
   "outputs": [
    {
     "data": {
      "text/plain": [
       "'Litw'"
      ]
     },
     "execution_count": 19,
     "metadata": {},
     "output_type": "execute_result"
    }
   ],
   "source": [
    "napis[0:4] # pierwsze cztery znaki"
   ]
  },
  {
   "cell_type": "markdown",
   "metadata": {},
   "source": [
    "operator : w indeksie działa jak range. pierwsza liczba to indeks poczatkowy, druga liczba do indeks końcowy.\n",
    "\n",
    "Przedział tworzony jest [start, stop)"
   ]
  },
  {
   "cell_type": "code",
   "execution_count": 21,
   "metadata": {},
   "outputs": [
    {
     "data": {
      "text/plain": [
       "'!ajom onzyzcjo ,owtiL'"
      ]
     },
     "execution_count": 21,
     "metadata": {},
     "output_type": "execute_result"
    }
   ],
   "source": [
    "napis[::-1]"
   ]
  },
  {
   "cell_type": "markdown",
   "metadata": {},
   "source": [
    "operator :: działa podobnie.  "
   ]
  },
  {
   "cell_type": "markdown",
   "metadata": {},
   "source": [
    "#### 1.3.2 strip, join, split"
   ]
  },
  {
   "cell_type": "code",
   "execution_count": 24,
   "metadata": {},
   "outputs": [
    {
     "name": "stdout",
     "output_type": "stream",
     "text": [
      "\t   tekst\n",
      "\n"
     ]
    }
   ],
   "source": [
    "napis2 = \"\\t   tekst\\n\"\n",
    "print(napis2)"
   ]
  },
  {
   "cell_type": "code",
   "execution_count": 26,
   "metadata": {},
   "outputs": [
    {
     "data": {
      "text/plain": [
       "('\\t   tekst\\n', 'tekst')"
      ]
     },
     "execution_count": 26,
     "metadata": {},
     "output_type": "execute_result"
    }
   ],
   "source": [
    "napis3 = napis2.strip()\n",
    "(napis2, napis3)"
   ]
  },
  {
   "cell_type": "code",
   "execution_count": 29,
   "metadata": {},
   "outputs": [
    {
     "data": {
      "text/plain": [
       "'Samotność, cóż po ludziach'"
      ]
     },
     "execution_count": 29,
     "metadata": {},
     "output_type": "execute_result"
    }
   ],
   "source": [
    "text1 = \"Samotność, \"\n",
    "text2 = \"cóż po ludziach\"\n",
    "text1+text2"
   ]
  },
  {
   "cell_type": "code",
   "execution_count": 35,
   "metadata": {},
   "outputs": [
    {
     "name": "stdout",
     "output_type": "stream",
     "text": [
      "Infowakacj: Litwo, ojczyzno moja!\n",
      "Improwizacja: Samotność, cóż po ludziach\n"
     ]
    }
   ],
   "source": [
    "print(f\"Infowakacj: {napis.strip()}\\nImprowizacja: {text1}{text2}\")"
   ]
  },
  {
   "cell_type": "code",
   "execution_count": 41,
   "metadata": {},
   "outputs": [
    {
     "data": {
      "text/plain": [
       "'pierwszy drugi trzeci'"
      ]
     },
     "execution_count": 41,
     "metadata": {},
     "output_type": "execute_result"
    }
   ],
   "source": [
    "tab = [\"pierwszy\", \"drugi\", \"trzeci\"]\n",
    "separator = \" \"\n",
    "separator.join(tab)"
   ]
  },
  {
   "cell_type": "code",
   "execution_count": 44,
   "metadata": {},
   "outputs": [
    {
     "data": {
      "text/plain": [
       "'pierwszy drugi trzeci'"
      ]
     },
     "execution_count": 44,
     "metadata": {},
     "output_type": "execute_result"
    }
   ],
   "source": [
    "\" \".join(tab)"
   ]
  },
  {
   "cell_type": "code",
   "execution_count": 43,
   "metadata": {},
   "outputs": [
    {
     "data": {
      "text/plain": [
       "'pierwszydrugitrzeci'"
      ]
     },
     "execution_count": 43,
     "metadata": {},
     "output_type": "execute_result"
    }
   ],
   "source": [
    "\"\".join(tab)"
   ]
  },
  {
   "cell_type": "code",
   "execution_count": 53,
   "metadata": {},
   "outputs": [
    {
     "data": {
      "text/plain": [
       "['słowa', 'słowa', 'słowa']"
      ]
     },
     "execution_count": 53,
     "metadata": {},
     "output_type": "execute_result"
    }
   ],
   "source": [
    "treść = \"słowa słowa słowa\"\n",
    "tab = treść.split() # domyślnie dzieli po białych znakach\n",
    "tab"
   ]
  },
  {
   "cell_type": "code",
   "execution_count": 54,
   "metadata": {},
   "outputs": [
    {
     "data": {
      "text/plain": [
       "['s',\n",
       " 'ł',\n",
       " 'o',\n",
       " 'w',\n",
       " 'a',\n",
       " ' ',\n",
       " 's',\n",
       " 'ł',\n",
       " 'o',\n",
       " 'w',\n",
       " 'a',\n",
       " ' ',\n",
       " 's',\n",
       " 'ł',\n",
       " 'o',\n",
       " 'w',\n",
       " 'a']"
      ]
     },
     "execution_count": 54,
     "metadata": {},
     "output_type": "execute_result"
    }
   ],
   "source": [
    "tab = list(treść) # konwersja na listę\n",
    "tab"
   ]
  },
  {
   "cell_type": "code",
   "execution_count": 62,
   "metadata": {},
   "outputs": [
    {
     "data": {
      "text/plain": [
       "97"
      ]
     },
     "execution_count": 62,
     "metadata": {},
     "output_type": "execute_result"
    }
   ],
   "source": [
    "ord('a') # ord zwraca numer w tabeli ascii"
   ]
  },
  {
   "cell_type": "code",
   "execution_count": 66,
   "metadata": {},
   "outputs": [
    {
     "name": "stdout",
     "output_type": "stream",
     "text": [
      "76 105 116 119 111 44 32 111 106 99 122 121 122 110 111 32 109 111 106 97 33 "
     ]
    }
   ],
   "source": [
    "w = []\n",
    "for letter in napis:\n",
    "    print(ord(letter), end=\" \")\n",
    "    w.append(ord(letter))"
   ]
  },
  {
   "cell_type": "code",
   "execution_count": 65,
   "metadata": {},
   "outputs": [
    {
     "data": {
      "text/plain": [
       "'a'"
      ]
     },
     "execution_count": 65,
     "metadata": {},
     "output_type": "execute_result"
    }
   ],
   "source": [
    "chr(97) # chr zwraca znak z tablicy ascii"
   ]
  },
  {
   "cell_type": "code",
   "execution_count": 69,
   "metadata": {},
   "outputs": [
    {
     "name": "stdout",
     "output_type": "stream",
     "text": [
      "Litwo, ojczyzno moja!"
     ]
    }
   ],
   "source": [
    "for ch in w:\n",
    "    print(chr(ch), end=\"\")"
   ]
  },
  {
   "cell_type": "code",
   "execution_count": 71,
   "metadata": {},
   "outputs": [
    {
     "data": {
      "text/plain": [
       "0"
      ]
     },
     "execution_count": 71,
     "metadata": {},
     "output_type": "execute_result"
    }
   ],
   "source": [
    "alfabet = 'abcdefghijklmnopqrstuvwxyz'\n",
    "alfabet.index(\"a\") # metoda index zwraca pierwszy wystąpienie zanku"
   ]
  },
  {
   "cell_type": "markdown",
   "metadata": {},
   "source": [
    "<a class=\"anchor\" id=\"1.4\"></a>\n",
    "### 1.4 Zbiory"
   ]
  },
  {
   "cell_type": "markdown",
   "metadata": {},
   "source": [
    "#### 1.4.1 set"
   ]
  },
  {
   "cell_type": "code",
   "execution_count": 86,
   "metadata": {},
   "outputs": [],
   "source": [
    "tab = [8,2,3,2,1,4,2,3,1,5,7]"
   ]
  },
  {
   "cell_type": "code",
   "execution_count": 85,
   "metadata": {},
   "outputs": [
    {
     "data": {
      "text/plain": [
       "{1, 2, 3, 4, 5, 7, 8}"
      ]
     },
     "execution_count": 85,
     "metadata": {},
     "output_type": "execute_result"
    }
   ],
   "source": [
    "zbiór = set(tab)\n",
    "zbiór"
   ]
  },
  {
   "cell_type": "markdown",
   "metadata": {},
   "source": [
    "#### 1.4.2 len"
   ]
  },
  {
   "cell_type": "code",
   "execution_count": 75,
   "metadata": {},
   "outputs": [
    {
     "data": {
      "text/plain": [
       "6"
      ]
     },
     "execution_count": 75,
     "metadata": {},
     "output_type": "execute_result"
    }
   ],
   "source": [
    "len(zbiór)"
   ]
  },
  {
   "cell_type": "markdown",
   "metadata": {},
   "source": [
    "<a class=\"anchor\" id=\"1.4\"></a>\n",
    "### 1.4 Zmienne"
   ]
  },
  {
   "cell_type": "markdown",
   "metadata": {},
   "source": [
    "#### 1.4.1 Rzutowanie"
   ]
  },
  {
   "cell_type": "code",
   "execution_count": 16,
   "metadata": {},
   "outputs": [],
   "source": [
    "strPi = \"3.14159\""
   ]
  },
  {
   "cell_type": "code",
   "execution_count": 17,
   "metadata": {},
   "outputs": [
    {
     "data": {
      "text/plain": [
       "3.14159"
      ]
     },
     "execution_count": 17,
     "metadata": {},
     "output_type": "execute_result"
    }
   ],
   "source": [
    "floatPi = float(strPi)\n",
    "floatPi"
   ]
  },
  {
   "cell_type": "code",
   "execution_count": 18,
   "metadata": {},
   "outputs": [
    {
     "name": "stdout",
     "output_type": "stream",
     "text": [
      "invalid literal for int() with base 10: '3.14159'\n"
     ]
    }
   ],
   "source": [
    "try:\n",
    "    int(strPi)\n",
    "except ValueError as err:\n",
    "    print(err)"
   ]
  },
  {
   "cell_type": "code",
   "execution_count": 19,
   "metadata": {},
   "outputs": [
    {
     "data": {
      "text/plain": [
       "3"
      ]
     },
     "execution_count": 19,
     "metadata": {},
     "output_type": "execute_result"
    }
   ],
   "source": [
    "intPi = int(floatPi)\n",
    "intPi"
   ]
  },
  {
   "cell_type": "code",
   "execution_count": 20,
   "metadata": {},
   "outputs": [
    {
     "name": "stdout",
     "output_type": "stream",
     "text": [
      "<class 'str'> <class 'float'> <class 'int'>\n"
     ]
    }
   ],
   "source": [
    "print(type(strPi), type(floatPi), type(intPi))"
   ]
  },
  {
   "cell_type": "markdown",
   "metadata": {},
   "source": [
    "#### 1.4.2 input"
   ]
  },
  {
   "cell_type": "code",
   "execution_count": 21,
   "metadata": {},
   "outputs": [
    {
     "data": {
      "text/plain": [
       "('3', str)"
      ]
     },
     "execution_count": 21,
     "metadata": {},
     "output_type": "execute_result"
    }
   ],
   "source": [
    "x = input(\"Podaj liczbe: \")\n",
    "(x, type(x))"
   ]
  },
  {
   "cell_type": "markdown",
   "metadata": {},
   "source": [
    "input wszystko interpretuje jako napis. Aby mieć liczbę:"
   ]
  },
  {
   "cell_type": "code",
   "execution_count": 22,
   "metadata": {},
   "outputs": [
    {
     "data": {
      "text/plain": [
       "(3, int)"
      ]
     },
     "execution_count": 22,
     "metadata": {},
     "output_type": "execute_result"
    }
   ],
   "source": [
    "x = int(input(\"Podaj liczbe: \"))\n",
    "(x, type(x))"
   ]
  },
  {
   "cell_type": "markdown",
   "metadata": {},
   "source": [
    "#### 1.4.3 Działania arytmetyczne"
   ]
  },
  {
   "cell_type": "code",
   "execution_count": 23,
   "metadata": {},
   "outputs": [
    {
     "name": "stdout",
     "output_type": "stream",
     "text": [
      "1.5\n",
      "1\n",
      "1\n",
      "9\n",
      "1024\n",
      "45\n"
     ]
    }
   ],
   "source": [
    "print(3/2)\n",
    "print(3//2) # dzielenie całkowite\n",
    "print(3%2) # reszta z dzielenia\n",
    "print(3**2) # potęga\n",
    "print(1<<10) # przesunięcie bitowe. de facto a<<b = a * 2**b. bardzo szybkie\n",
    "print(360>>3) # analogicznie a>>b = a / 2**b"
   ]
  },
  {
   "cell_type": "markdown",
   "metadata": {},
   "source": [
    "<a class=\"anchor\" id=\"1.5\"></a>\n",
    "### 1.5 Biblioteki"
   ]
  },
  {
   "cell_type": "markdown",
   "metadata": {},
   "source": [
    "#### 1.5.1 math"
   ]
  },
  {
   "cell_type": "code",
   "execution_count": 24,
   "metadata": {},
   "outputs": [
    {
     "name": "stdout",
     "output_type": "stream",
     "text": [
      "<module 'math' (built-in)>\n"
     ]
    }
   ],
   "source": [
    "import math\n",
    "print(math)"
   ]
  },
  {
   "cell_type": "code",
   "execution_count": 25,
   "metadata": {},
   "outputs": [
    {
     "name": "stdout",
     "output_type": "stream",
     "text": [
      "8.306623862918075\n"
     ]
    }
   ],
   "source": [
    "print(math.sqrt(69))"
   ]
  },
  {
   "cell_type": "code",
   "execution_count": 26,
   "metadata": {},
   "outputs": [
    {
     "data": {
      "text/plain": [
       "(2.718281828459045, 3.141592653589793)"
      ]
     },
     "execution_count": 26,
     "metadata": {},
     "output_type": "execute_result"
    }
   ],
   "source": [
    "(math.e, math.pi)"
   ]
  },
  {
   "cell_type": "code",
   "execution_count": 27,
   "metadata": {},
   "outputs": [
    {
     "name": "stdout",
     "output_type": "stream",
     "text": [
      "π = 3\n",
      "e = 3\n"
     ]
    }
   ],
   "source": [
    "print(f\"\\u03C0 = {math.floor(math.pi)}\\ne = {math.ceil(math.e)}\")"
   ]
  },
  {
   "cell_type": "markdown",
   "metadata": {},
   "source": [
    "#### 1.5.2 from ... import"
   ]
  },
  {
   "cell_type": "code",
   "execution_count": 28,
   "metadata": {},
   "outputs": [],
   "source": [
    "from math import sin, cos"
   ]
  },
  {
   "cell_type": "code",
   "execution_count": 29,
   "metadata": {},
   "outputs": [
    {
     "data": {
      "text/plain": [
       "1.2246467991473532e-16"
      ]
     },
     "execution_count": 29,
     "metadata": {},
     "output_type": "execute_result"
    }
   ],
   "source": [
    "sin(math.pi)"
   ]
  },
  {
   "cell_type": "markdown",
   "metadata": {},
   "source": [
    "#### 1.5.3 ... as"
   ]
  },
  {
   "cell_type": "code",
   "execution_count": 30,
   "metadata": {},
   "outputs": [],
   "source": [
    "import numpy as np"
   ]
  },
  {
   "cell_type": "code",
   "execution_count": 31,
   "metadata": {},
   "outputs": [
    {
     "data": {
      "text/plain": [
       "array([1. , 1.1, 1.2, 1.3, 1.4, 1.5, 1.6, 1.7, 1.8, 1.9, 2. ])"
      ]
     },
     "execution_count": 31,
     "metadata": {},
     "output_type": "execute_result"
    }
   ],
   "source": [
    "np.linspace(start=1, stop=2, num=11) # linspace to funcja biblioteki numpy, która zwraca array ciągu arytmetycznego od-do ileśtam elementów"
   ]
  },
  {
   "cell_type": "markdown",
   "metadata": {},
   "source": [
    "<a class=\"anchor\" id=\"1.6\"></a>\n",
    "### 1.6 Pliki"
   ]
  },
  {
   "cell_type": "markdown",
   "metadata": {},
   "source": [
    "#### 1.6.1 open, close"
   ]
  },
  {
   "cell_type": "code",
   "execution_count": 32,
   "metadata": {},
   "outputs": [
    {
     "name": "stdout",
     "output_type": "stream",
     "text": [
      "<_io.TextIOWrapper name='1.txt' mode='r' encoding='cp1250'>\n"
     ]
    }
   ],
   "source": [
    "tryb = 'r' # domyślnie jest r\n",
    "plik = open('1.txt' , tryb)\n",
    "print(plik)\n",
    "plik.close()"
   ]
  },
  {
   "cell_type": "markdown",
   "metadata": {},
   "source": [
    "Tryby otwierania (skopiowałem z neta)\n",
    "- r for reading – The file pointer is placed at the beginning of the file. This is the default mode.\n",
    "- r+ Opens a file for both reading and writing. The file pointer will be at the beginning of the file.\n",
    "- w Opens a file for writing only. Overwrites the file if the file exists. If the file does not exist, creates a new file for writing.\n",
    "- w+ Opens a file for both writing and reading. Overwrites the existing file if the file exists. If the file does not exist, it creates a new file for reading and writing.\n",
    "- rb Opens a file for reading only in binary format. The file pointer is placed at the beginning of the file.\n",
    "- rb+ Opens a file for both reading and writing in binary format.\n",
    "- wb+ Opens a file for both writing and reading in binary format. Overwrites the existing file if the file exists. If the file does not exist, it creates a new file for reading and writing.\n",
    "- a Opens a file for appending. The file pointer is at the end of the file if the file exists. That is, the file is in the append mode. If the file does not exist, it creates a new file for writing.\n",
    "- ab Opens a file for appending in binary format. The file pointer is at the end of the file if the file exists. That is, the file is in the append mode. If the file does not exist, it creates a - new file for writing.\n",
    "- a+ Opens a file for both appending and reading. The file pointer is at the end of the file if the file exists. The file opens in the append mode. If the file does not exist, it creates a new file for reading and writing.\n",
    "- ab+ Opens a file for both appending and reading in binary format. The file pointer is at the end of the file if the file exists. The file opens in the append mode. If the file does not exist, it creates a new file for reading and writing.\n",
    "- x open for exclusive creation, failing if the file already exists (Python 3)"
   ]
  },
  {
   "cell_type": "markdown",
   "metadata": {},
   "source": [
    "De facto wystarczy zapamiętać\n",
    "- r - read - domyślny, służy do czytania, zaczyna czytać od początku (duh)\n",
    "- w - write - służy do zapisu, tworzy plik jak nie ma i NADpisuje jak jest (stara zawartość pliku jest tracona). Zaczyna od początku\n",
    "- a - append - służy do dopisywania, tworzy jak nie ma i dopisuje jak jest. Dopisuje oczywiście do końca"
   ]
  },
  {
   "cell_type": "code",
   "execution_count": 33,
   "metadata": {},
   "outputs": [],
   "source": [
    "from datetime import datetime\n",
    "plik = open('2.txt', 'a', encoding=\"utf8\")\n",
    "teraz = datetime.now().strftime(\"%H:%M:%S %d.%m.%Y\")\n",
    "plik.write(f\"Ktoś dopisał do pliku {teraz}\\n\")\n",
    "plik.close()"
   ]
  },
  {
   "cell_type": "markdown",
   "metadata": {},
   "source": [
    "#### 1.6.2 for"
   ]
  },
  {
   "cell_type": "code",
   "execution_count": 34,
   "metadata": {},
   "outputs": [
    {
     "name": "stdout",
     "output_type": "stream",
     "text": [
      "linia 1\n",
      "\n",
      "linia 2\n",
      "\n",
      "3\n",
      "\n",
      "4\n",
      "\n",
      "5\n",
      "\n",
      "\n",
      "\n",
      "tam byĹ‚a pusta linia tho\n",
      "\n",
      "ĹĽĂłĹ‚Ä‡\n",
      "\n"
     ]
    }
   ],
   "source": [
    "plik = open('1.txt')\n",
    "for linia in plik:\n",
    "    print(linia)\n",
    "plik.close()"
   ]
  },
  {
   "cell_type": "code",
   "execution_count": 35,
   "metadata": {},
   "outputs": [
    {
     "name": "stdout",
     "output_type": "stream",
     "text": [
      "<_io.TextIOWrapper name='1.txt' mode='r' encoding='utf8'>\n",
      "linia 1\n",
      "linia 2\n",
      "3\n",
      "4\n",
      "5\n",
      "\n",
      "tam była pusta linia tho\n",
      "żółć\n"
     ]
    }
   ],
   "source": [
    "plik = open('1.txt', encoding='utf8')\n",
    "print(plik)\n",
    "for linia in plik:\n",
    "    print(linia, end=\"\") # za każdym razem wypisuje linie (linia ma na końcu enter) i enter. Wynikiem są dwa enery na końcu każdej lini. Po to wpisałem end=\"\", by na końcu lini print nie wypisał nic. Wtedy zostanie tylko jeden enter\n",
    "plik.close()"
   ]
  },
  {
   "cell_type": "markdown",
   "metadata": {},
   "source": [
    "#### 1.6.3 with"
   ]
  },
  {
   "cell_type": "code",
   "execution_count": 36,
   "metadata": {},
   "outputs": [
    {
     "name": "stdout",
     "output_type": "stream",
     "text": [
      "nie muszę martwić się o close\n"
     ]
    },
    {
     "data": {
      "text/plain": [
       "('linia 1\\nlinia 2\\n3\\n4\\n5\\n\\ntam była pusta linia tho\\nżółć\\n',\n",
       " ['linia 1\\n',\n",
       "  'linia 2\\n',\n",
       "  '3\\n',\n",
       "  '4\\n',\n",
       "  '5\\n',\n",
       "  '\\n',\n",
       "  'tam była pusta linia tho\\n',\n",
       "  'żółć\\n'])"
      ]
     },
     "execution_count": 36,
     "metadata": {},
     "output_type": "execute_result"
    }
   ],
   "source": [
    "with open(\"1.txt\", encoding=\"utf8\") as plik:\n",
    "    strFull = plik.read()\n",
    "    plik.seek(0) # przesuwa wskaźnik pliku na początek, abym mógł znowu odczytać cały plik\n",
    "    listFull = plik.readlines()\n",
    "    print(\"nie muszę martwić się o close\")\n",
    "(strFull, listFull) # na końcu każdej lini jest enter"
   ]
  },
  {
   "cell_type": "markdown",
   "metadata": {},
   "source": [
    "#### Usuwanie enterów"
   ]
  },
  {
   "cell_type": "code",
   "execution_count": 37,
   "metadata": {},
   "outputs": [
    {
     "data": {
      "text/plain": [
       "['linia 1', 'linia 2', '3', '4', '5', '', 'tam była pusta linia tho', 'żółć']"
      ]
     },
     "execution_count": 37,
     "metadata": {},
     "output_type": "execute_result"
    }
   ],
   "source": [
    "for i in range(len(listFull)):\n",
    "    listFull[i] = listFull[i].strip() #wykorzystanie strip\n",
    "listFull"
   ]
  },
  {
   "cell_type": "code",
   "execution_count": 38,
   "metadata": {},
   "outputs": [
    {
     "data": {
      "text/plain": [
       "['linia 1',\n",
       " 'linia 2',\n",
       " '3',\n",
       " '4',\n",
       " '5',\n",
       " '',\n",
       " 'tam była pusta linia tho',\n",
       " 'żółć',\n",
       " '']"
      ]
     },
     "execution_count": 38,
     "metadata": {},
     "output_type": "execute_result"
    }
   ],
   "source": [
    "list2Full = strFull.split(\"\\n\") #też jest fajne. w jednej linijce to wygląda tak: plik.read().strip(\\n)\n",
    "list2Full"
   ]
  },
  {
   "cell_type": "code",
   "execution_count": 39,
   "metadata": {},
   "outputs": [
    {
     "data": {
      "text/plain": [
       "(['linia 1', 'linia 2', '3', '4', '5', '', 'tam była pusta linia tho', 'żółć'],\n",
       " ['linia 1', 'linia 2', '3', '4', '5', '', 'tam była pusta linia tho', 'żółć'])"
      ]
     },
     "execution_count": 39,
     "metadata": {},
     "output_type": "execute_result"
    }
   ],
   "source": [
    "list2Full.pop() # usunięcie ostatniego pustego stringa ma sens tylko, gdy na końcu pliku jest newline (co jest zalecane przez tam mądrych użytkowników komputera, ale Ci, co piszą matury się tam nie zaliczają :(, więc nie zawsze tak będzie)\n",
    "(listFull, list2Full)"
   ]
  },
  {
   "cell_type": "code",
   "execution_count": 40,
   "metadata": {},
   "outputs": [
    {
     "name": "stdout",
     "output_type": "stream",
     "text": [
      "Ktoś dopisał do pliku 19:04:56\n",
      "Ktoś dopisał do pliku 19:05:01\n",
      "Ktoś dopisał do pliku 2021-11-28\n",
      "Ktoś dopisał do pliku 2021-11-28\n",
      "Ktoś dopisał do pliku 2021-11-28 19:06:03.962722\n",
      "Ktoś dopisał do pliku 2021-11-28 19:06:08.103471\n",
      "Ktoś dopisał do pliku 2021-11-28 19:06:56.090536\n",
      "Ktoś dopisał do pliku 2021-11-28 19:07:00.882875\n",
      "Ktoś dopisał do pliku 2021-11-28 19:07:05.636167\n",
      "Ktoś dopisał do pliku 2021-11-28 19:08:08.606773\n",
      "Ktoś dopisał do pliku 28/11/2021 19:08:39\n",
      "Ktoś dopisał do pliku 28/11/2021 19:08:42\n",
      "Ktoś dopisał do pliku 19:09:02 28.11.2021\n",
      "Ktoś dopisał do pliku 19:09:03 28.11.2021\n",
      "Ktoś dopisał do pliku 19:50:44 28.11.2021\n",
      "Ktoś dopisał do pliku 19:52:28 28.11.2021\n",
      "Ktoś dopisał do pliku 20:06:22 28.11.2021\n",
      "Ktoś dopisał do pliku 20:07:20 28.11.2021\n",
      "Ktoś dopisał do pliku 20:12:01 28.11.2021\n",
      "Ktoś dopisał do pliku 20:13:16 28.11.2021\n",
      "Ktoś dopisał do pliku 20:21:37 28.11.2021\n",
      "Ktoś dopisał do pliku 21:37:21 28.11.2021\n",
      "Ktoś dopisał do pliku 20:37:51 28.11.2021\n",
      "Ktoś dopisał do pliku 22:26:45 28.11.2021\n",
      "\n"
     ]
    }
   ],
   "source": [
    "with open('2.txt', encoding=\"utf8\") as file:\n",
    "    print(file.read())"
   ]
  }
 ],
 "metadata": {
  "celltoolbar": "Raw Cell Format",
  "kernelspec": {
   "display_name": "Python 3",
   "language": "python",
   "name": "python3"
  },
  "language_info": {
   "codemirror_mode": {
    "name": "ipython",
    "version": 3
   },
   "file_extension": ".py",
   "mimetype": "text/x-python",
   "name": "python",
   "nbconvert_exporter": "python",
   "pygments_lexer": "ipython3",
   "version": "3.8.5"
  }
 },
 "nbformat": 4,
 "nbformat_minor": 5
}
